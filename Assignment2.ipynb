{
  "nbformat": 4,
  "nbformat_minor": 0,
  "metadata": {
    "colab": {
      "provenance": [],
      "collapsed_sections": [
        "P8hNXmGj3cho"
      ],
      "gpuType": "T4",
      "include_colab_link": true
    },
    "kernelspec": {
      "name": "python3",
      "display_name": "Python 3"
    },
    "language_info": {
      "name": "python"
    },
    "accelerator": "GPU",
    "widgets": {
      "application/vnd.jupyter.widget-state+json": {
        "5e760b912afb4560b95b3c21a0e0849e": {
          "model_module": "@jupyter-widgets/controls",
          "model_name": "HBoxModel",
          "model_module_version": "1.5.0",
          "state": {
            "_dom_classes": [],
            "_model_module": "@jupyter-widgets/controls",
            "_model_module_version": "1.5.0",
            "_model_name": "HBoxModel",
            "_view_count": null,
            "_view_module": "@jupyter-widgets/controls",
            "_view_module_version": "1.5.0",
            "_view_name": "HBoxView",
            "box_style": "",
            "children": [
              "IPY_MODEL_58b6b966b17d473681fd0ae224b048b3",
              "IPY_MODEL_0ec07b845620491798742532acfa59d9",
              "IPY_MODEL_75f7103fe1e944ba8437bff634e9685a"
            ],
            "layout": "IPY_MODEL_e0895fc84d494e85ae712ac0d2ff3a03"
          }
        },
        "58b6b966b17d473681fd0ae224b048b3": {
          "model_module": "@jupyter-widgets/controls",
          "model_name": "HTMLModel",
          "model_module_version": "1.5.0",
          "state": {
            "_dom_classes": [],
            "_model_module": "@jupyter-widgets/controls",
            "_model_module_version": "1.5.0",
            "_model_name": "HTMLModel",
            "_view_count": null,
            "_view_module": "@jupyter-widgets/controls",
            "_view_module_version": "1.5.0",
            "_view_name": "HTMLView",
            "description": "",
            "description_tooltip": null,
            "layout": "IPY_MODEL_29ea8d9caa1644dbb159f1f6500e4d31",
            "placeholder": "​",
            "style": "IPY_MODEL_b28a065eac5142dd8d6172593282ef5a",
            "value": "Dl Completed...: 100%"
          }
        },
        "0ec07b845620491798742532acfa59d9": {
          "model_module": "@jupyter-widgets/controls",
          "model_name": "FloatProgressModel",
          "model_module_version": "1.5.0",
          "state": {
            "_dom_classes": [],
            "_model_module": "@jupyter-widgets/controls",
            "_model_module_version": "1.5.0",
            "_model_name": "FloatProgressModel",
            "_view_count": null,
            "_view_module": "@jupyter-widgets/controls",
            "_view_module_version": "1.5.0",
            "_view_name": "ProgressView",
            "bar_style": "info",
            "description": "",
            "description_tooltip": null,
            "layout": "IPY_MODEL_f815b82450234089a09f2e6659404ae9",
            "max": 1,
            "min": 0,
            "orientation": "horizontal",
            "style": "IPY_MODEL_a880268b67cd44d99b1c1bb4e9f83675",
            "value": 1
          }
        },
        "75f7103fe1e944ba8437bff634e9685a": {
          "model_module": "@jupyter-widgets/controls",
          "model_name": "HTMLModel",
          "model_module_version": "1.5.0",
          "state": {
            "_dom_classes": [],
            "_model_module": "@jupyter-widgets/controls",
            "_model_module_version": "1.5.0",
            "_model_name": "HTMLModel",
            "_view_count": null,
            "_view_module": "@jupyter-widgets/controls",
            "_view_module_version": "1.5.0",
            "_view_name": "HTMLView",
            "description": "",
            "description_tooltip": null,
            "layout": "IPY_MODEL_8e8a510445264170acc8ef9707bbd2ee",
            "placeholder": "​",
            "style": "IPY_MODEL_bfb7d8dec6044513ab7c892a435be594",
            "value": " 1/1 [01:09&lt;00:00,  8.21s/ url]"
          }
        },
        "e0895fc84d494e85ae712ac0d2ff3a03": {
          "model_module": "@jupyter-widgets/base",
          "model_name": "LayoutModel",
          "model_module_version": "1.2.0",
          "state": {
            "_model_module": "@jupyter-widgets/base",
            "_model_module_version": "1.2.0",
            "_model_name": "LayoutModel",
            "_view_count": null,
            "_view_module": "@jupyter-widgets/base",
            "_view_module_version": "1.2.0",
            "_view_name": "LayoutView",
            "align_content": null,
            "align_items": null,
            "align_self": null,
            "border": null,
            "bottom": null,
            "display": null,
            "flex": null,
            "flex_flow": null,
            "grid_area": null,
            "grid_auto_columns": null,
            "grid_auto_flow": null,
            "grid_auto_rows": null,
            "grid_column": null,
            "grid_gap": null,
            "grid_row": null,
            "grid_template_areas": null,
            "grid_template_columns": null,
            "grid_template_rows": null,
            "height": null,
            "justify_content": null,
            "justify_items": null,
            "left": null,
            "margin": null,
            "max_height": null,
            "max_width": null,
            "min_height": null,
            "min_width": null,
            "object_fit": null,
            "object_position": null,
            "order": null,
            "overflow": null,
            "overflow_x": null,
            "overflow_y": null,
            "padding": null,
            "right": null,
            "top": null,
            "visibility": null,
            "width": null
          }
        },
        "29ea8d9caa1644dbb159f1f6500e4d31": {
          "model_module": "@jupyter-widgets/base",
          "model_name": "LayoutModel",
          "model_module_version": "1.2.0",
          "state": {
            "_model_module": "@jupyter-widgets/base",
            "_model_module_version": "1.2.0",
            "_model_name": "LayoutModel",
            "_view_count": null,
            "_view_module": "@jupyter-widgets/base",
            "_view_module_version": "1.2.0",
            "_view_name": "LayoutView",
            "align_content": null,
            "align_items": null,
            "align_self": null,
            "border": null,
            "bottom": null,
            "display": null,
            "flex": null,
            "flex_flow": null,
            "grid_area": null,
            "grid_auto_columns": null,
            "grid_auto_flow": null,
            "grid_auto_rows": null,
            "grid_column": null,
            "grid_gap": null,
            "grid_row": null,
            "grid_template_areas": null,
            "grid_template_columns": null,
            "grid_template_rows": null,
            "height": null,
            "justify_content": null,
            "justify_items": null,
            "left": null,
            "margin": null,
            "max_height": null,
            "max_width": null,
            "min_height": null,
            "min_width": null,
            "object_fit": null,
            "object_position": null,
            "order": null,
            "overflow": null,
            "overflow_x": null,
            "overflow_y": null,
            "padding": null,
            "right": null,
            "top": null,
            "visibility": null,
            "width": null
          }
        },
        "b28a065eac5142dd8d6172593282ef5a": {
          "model_module": "@jupyter-widgets/controls",
          "model_name": "DescriptionStyleModel",
          "model_module_version": "1.5.0",
          "state": {
            "_model_module": "@jupyter-widgets/controls",
            "_model_module_version": "1.5.0",
            "_model_name": "DescriptionStyleModel",
            "_view_count": null,
            "_view_module": "@jupyter-widgets/base",
            "_view_module_version": "1.2.0",
            "_view_name": "StyleView",
            "description_width": ""
          }
        },
        "f815b82450234089a09f2e6659404ae9": {
          "model_module": "@jupyter-widgets/base",
          "model_name": "LayoutModel",
          "model_module_version": "1.2.0",
          "state": {
            "_model_module": "@jupyter-widgets/base",
            "_model_module_version": "1.2.0",
            "_model_name": "LayoutModel",
            "_view_count": null,
            "_view_module": "@jupyter-widgets/base",
            "_view_module_version": "1.2.0",
            "_view_name": "LayoutView",
            "align_content": null,
            "align_items": null,
            "align_self": null,
            "border": null,
            "bottom": null,
            "display": null,
            "flex": null,
            "flex_flow": null,
            "grid_area": null,
            "grid_auto_columns": null,
            "grid_auto_flow": null,
            "grid_auto_rows": null,
            "grid_column": null,
            "grid_gap": null,
            "grid_row": null,
            "grid_template_areas": null,
            "grid_template_columns": null,
            "grid_template_rows": null,
            "height": null,
            "justify_content": null,
            "justify_items": null,
            "left": null,
            "margin": null,
            "max_height": null,
            "max_width": null,
            "min_height": null,
            "min_width": null,
            "object_fit": null,
            "object_position": null,
            "order": null,
            "overflow": null,
            "overflow_x": null,
            "overflow_y": null,
            "padding": null,
            "right": null,
            "top": null,
            "visibility": null,
            "width": "20px"
          }
        },
        "a880268b67cd44d99b1c1bb4e9f83675": {
          "model_module": "@jupyter-widgets/controls",
          "model_name": "ProgressStyleModel",
          "model_module_version": "1.5.0",
          "state": {
            "_model_module": "@jupyter-widgets/controls",
            "_model_module_version": "1.5.0",
            "_model_name": "ProgressStyleModel",
            "_view_count": null,
            "_view_module": "@jupyter-widgets/base",
            "_view_module_version": "1.2.0",
            "_view_name": "StyleView",
            "bar_color": null,
            "description_width": ""
          }
        },
        "8e8a510445264170acc8ef9707bbd2ee": {
          "model_module": "@jupyter-widgets/base",
          "model_name": "LayoutModel",
          "model_module_version": "1.2.0",
          "state": {
            "_model_module": "@jupyter-widgets/base",
            "_model_module_version": "1.2.0",
            "_model_name": "LayoutModel",
            "_view_count": null,
            "_view_module": "@jupyter-widgets/base",
            "_view_module_version": "1.2.0",
            "_view_name": "LayoutView",
            "align_content": null,
            "align_items": null,
            "align_self": null,
            "border": null,
            "bottom": null,
            "display": null,
            "flex": null,
            "flex_flow": null,
            "grid_area": null,
            "grid_auto_columns": null,
            "grid_auto_flow": null,
            "grid_auto_rows": null,
            "grid_column": null,
            "grid_gap": null,
            "grid_row": null,
            "grid_template_areas": null,
            "grid_template_columns": null,
            "grid_template_rows": null,
            "height": null,
            "justify_content": null,
            "justify_items": null,
            "left": null,
            "margin": null,
            "max_height": null,
            "max_width": null,
            "min_height": null,
            "min_width": null,
            "object_fit": null,
            "object_position": null,
            "order": null,
            "overflow": null,
            "overflow_x": null,
            "overflow_y": null,
            "padding": null,
            "right": null,
            "top": null,
            "visibility": null,
            "width": null
          }
        },
        "bfb7d8dec6044513ab7c892a435be594": {
          "model_module": "@jupyter-widgets/controls",
          "model_name": "DescriptionStyleModel",
          "model_module_version": "1.5.0",
          "state": {
            "_model_module": "@jupyter-widgets/controls",
            "_model_module_version": "1.5.0",
            "_model_name": "DescriptionStyleModel",
            "_view_count": null,
            "_view_module": "@jupyter-widgets/base",
            "_view_module_version": "1.2.0",
            "_view_name": "StyleView",
            "description_width": ""
          }
        },
        "55dfcb376f4b484e984f25e1d211dfaf": {
          "model_module": "@jupyter-widgets/controls",
          "model_name": "HBoxModel",
          "model_module_version": "1.5.0",
          "state": {
            "_dom_classes": [],
            "_model_module": "@jupyter-widgets/controls",
            "_model_module_version": "1.5.0",
            "_model_name": "HBoxModel",
            "_view_count": null,
            "_view_module": "@jupyter-widgets/controls",
            "_view_module_version": "1.5.0",
            "_view_name": "HBoxView",
            "box_style": "",
            "children": [
              "IPY_MODEL_00887d4ca7f945baa33c79930d58c7ce",
              "IPY_MODEL_904019ab2cd849deb37ec7e1bf1b23c6",
              "IPY_MODEL_8cc998863e9a4d26a8c4c71555d37cf2"
            ],
            "layout": "IPY_MODEL_18b5cc60125c4e98ab75876887245036"
          }
        },
        "00887d4ca7f945baa33c79930d58c7ce": {
          "model_module": "@jupyter-widgets/controls",
          "model_name": "HTMLModel",
          "model_module_version": "1.5.0",
          "state": {
            "_dom_classes": [],
            "_model_module": "@jupyter-widgets/controls",
            "_model_module_version": "1.5.0",
            "_model_name": "HTMLModel",
            "_view_count": null,
            "_view_module": "@jupyter-widgets/controls",
            "_view_module_version": "1.5.0",
            "_view_name": "HTMLView",
            "description": "",
            "description_tooltip": null,
            "layout": "IPY_MODEL_7831299384cb41e1be81e34a341be5f8",
            "placeholder": "​",
            "style": "IPY_MODEL_ce4ea01884974ad7afb83c11521e75ad",
            "value": "Dl Size...: 100%"
          }
        },
        "904019ab2cd849deb37ec7e1bf1b23c6": {
          "model_module": "@jupyter-widgets/controls",
          "model_name": "FloatProgressModel",
          "model_module_version": "1.5.0",
          "state": {
            "_dom_classes": [],
            "_model_module": "@jupyter-widgets/controls",
            "_model_module_version": "1.5.0",
            "_model_name": "FloatProgressModel",
            "_view_count": null,
            "_view_module": "@jupyter-widgets/controls",
            "_view_module_version": "1.5.0",
            "_view_name": "ProgressView",
            "bar_style": "info",
            "description": "",
            "description_tooltip": null,
            "layout": "IPY_MODEL_39f74e411c904c45bd71fa3992997cde",
            "max": 1,
            "min": 0,
            "orientation": "horizontal",
            "style": "IPY_MODEL_a53116410d9c4bb098eed56c04e6c420",
            "value": 1
          }
        },
        "8cc998863e9a4d26a8c4c71555d37cf2": {
          "model_module": "@jupyter-widgets/controls",
          "model_name": "HTMLModel",
          "model_module_version": "1.5.0",
          "state": {
            "_dom_classes": [],
            "_model_module": "@jupyter-widgets/controls",
            "_model_module_version": "1.5.0",
            "_model_name": "HTMLModel",
            "_view_count": null,
            "_view_module": "@jupyter-widgets/controls",
            "_view_module_version": "1.5.0",
            "_view_name": "HTMLView",
            "description": "",
            "description_tooltip": null,
            "layout": "IPY_MODEL_aadb15d08f034e45b6e5a03709bcf222",
            "placeholder": "​",
            "style": "IPY_MODEL_48a682d2a65c4a879585f1901064b2bb",
            "value": " 89/89 [01:09&lt;00:00, 15.11 MiB/s]"
          }
        },
        "18b5cc60125c4e98ab75876887245036": {
          "model_module": "@jupyter-widgets/base",
          "model_name": "LayoutModel",
          "model_module_version": "1.2.0",
          "state": {
            "_model_module": "@jupyter-widgets/base",
            "_model_module_version": "1.2.0",
            "_model_name": "LayoutModel",
            "_view_count": null,
            "_view_module": "@jupyter-widgets/base",
            "_view_module_version": "1.2.0",
            "_view_name": "LayoutView",
            "align_content": null,
            "align_items": null,
            "align_self": null,
            "border": null,
            "bottom": null,
            "display": null,
            "flex": null,
            "flex_flow": null,
            "grid_area": null,
            "grid_auto_columns": null,
            "grid_auto_flow": null,
            "grid_auto_rows": null,
            "grid_column": null,
            "grid_gap": null,
            "grid_row": null,
            "grid_template_areas": null,
            "grid_template_columns": null,
            "grid_template_rows": null,
            "height": null,
            "justify_content": null,
            "justify_items": null,
            "left": null,
            "margin": null,
            "max_height": null,
            "max_width": null,
            "min_height": null,
            "min_width": null,
            "object_fit": null,
            "object_position": null,
            "order": null,
            "overflow": null,
            "overflow_x": null,
            "overflow_y": null,
            "padding": null,
            "right": null,
            "top": null,
            "visibility": null,
            "width": null
          }
        },
        "7831299384cb41e1be81e34a341be5f8": {
          "model_module": "@jupyter-widgets/base",
          "model_name": "LayoutModel",
          "model_module_version": "1.2.0",
          "state": {
            "_model_module": "@jupyter-widgets/base",
            "_model_module_version": "1.2.0",
            "_model_name": "LayoutModel",
            "_view_count": null,
            "_view_module": "@jupyter-widgets/base",
            "_view_module_version": "1.2.0",
            "_view_name": "LayoutView",
            "align_content": null,
            "align_items": null,
            "align_self": null,
            "border": null,
            "bottom": null,
            "display": null,
            "flex": null,
            "flex_flow": null,
            "grid_area": null,
            "grid_auto_columns": null,
            "grid_auto_flow": null,
            "grid_auto_rows": null,
            "grid_column": null,
            "grid_gap": null,
            "grid_row": null,
            "grid_template_areas": null,
            "grid_template_columns": null,
            "grid_template_rows": null,
            "height": null,
            "justify_content": null,
            "justify_items": null,
            "left": null,
            "margin": null,
            "max_height": null,
            "max_width": null,
            "min_height": null,
            "min_width": null,
            "object_fit": null,
            "object_position": null,
            "order": null,
            "overflow": null,
            "overflow_x": null,
            "overflow_y": null,
            "padding": null,
            "right": null,
            "top": null,
            "visibility": null,
            "width": null
          }
        },
        "ce4ea01884974ad7afb83c11521e75ad": {
          "model_module": "@jupyter-widgets/controls",
          "model_name": "DescriptionStyleModel",
          "model_module_version": "1.5.0",
          "state": {
            "_model_module": "@jupyter-widgets/controls",
            "_model_module_version": "1.5.0",
            "_model_name": "DescriptionStyleModel",
            "_view_count": null,
            "_view_module": "@jupyter-widgets/base",
            "_view_module_version": "1.2.0",
            "_view_name": "StyleView",
            "description_width": ""
          }
        },
        "39f74e411c904c45bd71fa3992997cde": {
          "model_module": "@jupyter-widgets/base",
          "model_name": "LayoutModel",
          "model_module_version": "1.2.0",
          "state": {
            "_model_module": "@jupyter-widgets/base",
            "_model_module_version": "1.2.0",
            "_model_name": "LayoutModel",
            "_view_count": null,
            "_view_module": "@jupyter-widgets/base",
            "_view_module_version": "1.2.0",
            "_view_name": "LayoutView",
            "align_content": null,
            "align_items": null,
            "align_self": null,
            "border": null,
            "bottom": null,
            "display": null,
            "flex": null,
            "flex_flow": null,
            "grid_area": null,
            "grid_auto_columns": null,
            "grid_auto_flow": null,
            "grid_auto_rows": null,
            "grid_column": null,
            "grid_gap": null,
            "grid_row": null,
            "grid_template_areas": null,
            "grid_template_columns": null,
            "grid_template_rows": null,
            "height": null,
            "justify_content": null,
            "justify_items": null,
            "left": null,
            "margin": null,
            "max_height": null,
            "max_width": null,
            "min_height": null,
            "min_width": null,
            "object_fit": null,
            "object_position": null,
            "order": null,
            "overflow": null,
            "overflow_x": null,
            "overflow_y": null,
            "padding": null,
            "right": null,
            "top": null,
            "visibility": null,
            "width": "20px"
          }
        },
        "a53116410d9c4bb098eed56c04e6c420": {
          "model_module": "@jupyter-widgets/controls",
          "model_name": "ProgressStyleModel",
          "model_module_version": "1.5.0",
          "state": {
            "_model_module": "@jupyter-widgets/controls",
            "_model_module_version": "1.5.0",
            "_model_name": "ProgressStyleModel",
            "_view_count": null,
            "_view_module": "@jupyter-widgets/base",
            "_view_module_version": "1.2.0",
            "_view_name": "StyleView",
            "bar_color": null,
            "description_width": ""
          }
        },
        "aadb15d08f034e45b6e5a03709bcf222": {
          "model_module": "@jupyter-widgets/base",
          "model_name": "LayoutModel",
          "model_module_version": "1.2.0",
          "state": {
            "_model_module": "@jupyter-widgets/base",
            "_model_module_version": "1.2.0",
            "_model_name": "LayoutModel",
            "_view_count": null,
            "_view_module": "@jupyter-widgets/base",
            "_view_module_version": "1.2.0",
            "_view_name": "LayoutView",
            "align_content": null,
            "align_items": null,
            "align_self": null,
            "border": null,
            "bottom": null,
            "display": null,
            "flex": null,
            "flex_flow": null,
            "grid_area": null,
            "grid_auto_columns": null,
            "grid_auto_flow": null,
            "grid_auto_rows": null,
            "grid_column": null,
            "grid_gap": null,
            "grid_row": null,
            "grid_template_areas": null,
            "grid_template_columns": null,
            "grid_template_rows": null,
            "height": null,
            "justify_content": null,
            "justify_items": null,
            "left": null,
            "margin": null,
            "max_height": null,
            "max_width": null,
            "min_height": null,
            "min_width": null,
            "object_fit": null,
            "object_position": null,
            "order": null,
            "overflow": null,
            "overflow_x": null,
            "overflow_y": null,
            "padding": null,
            "right": null,
            "top": null,
            "visibility": null,
            "width": null
          }
        },
        "48a682d2a65c4a879585f1901064b2bb": {
          "model_module": "@jupyter-widgets/controls",
          "model_name": "DescriptionStyleModel",
          "model_module_version": "1.5.0",
          "state": {
            "_model_module": "@jupyter-widgets/controls",
            "_model_module_version": "1.5.0",
            "_model_name": "DescriptionStyleModel",
            "_view_count": null,
            "_view_module": "@jupyter-widgets/base",
            "_view_module_version": "1.2.0",
            "_view_name": "StyleView",
            "description_width": ""
          }
        },
        "fde831dbc96d4274a8bc2205302b7732": {
          "model_module": "@jupyter-widgets/controls",
          "model_name": "HBoxModel",
          "model_module_version": "1.5.0",
          "state": {
            "_dom_classes": [],
            "_model_module": "@jupyter-widgets/controls",
            "_model_module_version": "1.5.0",
            "_model_name": "HBoxModel",
            "_view_count": null,
            "_view_module": "@jupyter-widgets/controls",
            "_view_module_version": "1.5.0",
            "_view_name": "HBoxView",
            "box_style": "",
            "children": [
              "IPY_MODEL_69cffafe7fab4516ab51a629bdeb377c",
              "IPY_MODEL_0a43a52ee1d948c88bbb95ca83d02f23",
              "IPY_MODEL_e1721228278d496e8c75f289a7dbf241"
            ],
            "layout": "IPY_MODEL_b87b6c5c1f21494387a6e6f2f2130d72"
          }
        },
        "69cffafe7fab4516ab51a629bdeb377c": {
          "model_module": "@jupyter-widgets/controls",
          "model_name": "HTMLModel",
          "model_module_version": "1.5.0",
          "state": {
            "_dom_classes": [],
            "_model_module": "@jupyter-widgets/controls",
            "_model_module_version": "1.5.0",
            "_model_name": "HTMLModel",
            "_view_count": null,
            "_view_module": "@jupyter-widgets/controls",
            "_view_module_version": "1.5.0",
            "_view_name": "HTMLView",
            "description": "",
            "description_tooltip": null,
            "layout": "IPY_MODEL_f39d94e2cb864500a280d3c7656574d5",
            "placeholder": "​",
            "style": "IPY_MODEL_d969d42723ed41e78c8cb0f160c080c7",
            "value": "Extraction completed...:  97%"
          }
        },
        "0a43a52ee1d948c88bbb95ca83d02f23": {
          "model_module": "@jupyter-widgets/controls",
          "model_name": "FloatProgressModel",
          "model_module_version": "1.5.0",
          "state": {
            "_dom_classes": [],
            "_model_module": "@jupyter-widgets/controls",
            "_model_module_version": "1.5.0",
            "_model_name": "FloatProgressModel",
            "_view_count": null,
            "_view_module": "@jupyter-widgets/controls",
            "_view_module_version": "1.5.0",
            "_view_name": "ProgressView",
            "bar_style": "info",
            "description": "",
            "description_tooltip": null,
            "layout": "IPY_MODEL_170198057d8f44f694278f0df4b497ed",
            "max": 1,
            "min": 0,
            "orientation": "horizontal",
            "style": "IPY_MODEL_479f9b4013d4449d9027dc38b016f728",
            "value": 1
          }
        },
        "e1721228278d496e8c75f289a7dbf241": {
          "model_module": "@jupyter-widgets/controls",
          "model_name": "HTMLModel",
          "model_module_version": "1.5.0",
          "state": {
            "_dom_classes": [],
            "_model_module": "@jupyter-widgets/controls",
            "_model_module_version": "1.5.0",
            "_model_name": "HTMLModel",
            "_view_count": null,
            "_view_module": "@jupyter-widgets/controls",
            "_view_module_version": "1.5.0",
            "_view_name": "HTMLView",
            "description": "",
            "description_tooltip": null,
            "layout": "IPY_MODEL_41e706314b104d1f9ecbadd374dbbdf7",
            "placeholder": "​",
            "style": "IPY_MODEL_b450b2f70b344366ae6000777f86878e",
            "value": " 26108/27000 [01:10&lt;00:00, 1090.01 file/s]"
          }
        },
        "b87b6c5c1f21494387a6e6f2f2130d72": {
          "model_module": "@jupyter-widgets/base",
          "model_name": "LayoutModel",
          "model_module_version": "1.2.0",
          "state": {
            "_model_module": "@jupyter-widgets/base",
            "_model_module_version": "1.2.0",
            "_model_name": "LayoutModel",
            "_view_count": null,
            "_view_module": "@jupyter-widgets/base",
            "_view_module_version": "1.2.0",
            "_view_name": "LayoutView",
            "align_content": null,
            "align_items": null,
            "align_self": null,
            "border": null,
            "bottom": null,
            "display": null,
            "flex": null,
            "flex_flow": null,
            "grid_area": null,
            "grid_auto_columns": null,
            "grid_auto_flow": null,
            "grid_auto_rows": null,
            "grid_column": null,
            "grid_gap": null,
            "grid_row": null,
            "grid_template_areas": null,
            "grid_template_columns": null,
            "grid_template_rows": null,
            "height": null,
            "justify_content": null,
            "justify_items": null,
            "left": null,
            "margin": null,
            "max_height": null,
            "max_width": null,
            "min_height": null,
            "min_width": null,
            "object_fit": null,
            "object_position": null,
            "order": null,
            "overflow": null,
            "overflow_x": null,
            "overflow_y": null,
            "padding": null,
            "right": null,
            "top": null,
            "visibility": null,
            "width": null
          }
        },
        "f39d94e2cb864500a280d3c7656574d5": {
          "model_module": "@jupyter-widgets/base",
          "model_name": "LayoutModel",
          "model_module_version": "1.2.0",
          "state": {
            "_model_module": "@jupyter-widgets/base",
            "_model_module_version": "1.2.0",
            "_model_name": "LayoutModel",
            "_view_count": null,
            "_view_module": "@jupyter-widgets/base",
            "_view_module_version": "1.2.0",
            "_view_name": "LayoutView",
            "align_content": null,
            "align_items": null,
            "align_self": null,
            "border": null,
            "bottom": null,
            "display": null,
            "flex": null,
            "flex_flow": null,
            "grid_area": null,
            "grid_auto_columns": null,
            "grid_auto_flow": null,
            "grid_auto_rows": null,
            "grid_column": null,
            "grid_gap": null,
            "grid_row": null,
            "grid_template_areas": null,
            "grid_template_columns": null,
            "grid_template_rows": null,
            "height": null,
            "justify_content": null,
            "justify_items": null,
            "left": null,
            "margin": null,
            "max_height": null,
            "max_width": null,
            "min_height": null,
            "min_width": null,
            "object_fit": null,
            "object_position": null,
            "order": null,
            "overflow": null,
            "overflow_x": null,
            "overflow_y": null,
            "padding": null,
            "right": null,
            "top": null,
            "visibility": null,
            "width": null
          }
        },
        "d969d42723ed41e78c8cb0f160c080c7": {
          "model_module": "@jupyter-widgets/controls",
          "model_name": "DescriptionStyleModel",
          "model_module_version": "1.5.0",
          "state": {
            "_model_module": "@jupyter-widgets/controls",
            "_model_module_version": "1.5.0",
            "_model_name": "DescriptionStyleModel",
            "_view_count": null,
            "_view_module": "@jupyter-widgets/base",
            "_view_module_version": "1.2.0",
            "_view_name": "StyleView",
            "description_width": ""
          }
        },
        "170198057d8f44f694278f0df4b497ed": {
          "model_module": "@jupyter-widgets/base",
          "model_name": "LayoutModel",
          "model_module_version": "1.2.0",
          "state": {
            "_model_module": "@jupyter-widgets/base",
            "_model_module_version": "1.2.0",
            "_model_name": "LayoutModel",
            "_view_count": null,
            "_view_module": "@jupyter-widgets/base",
            "_view_module_version": "1.2.0",
            "_view_name": "LayoutView",
            "align_content": null,
            "align_items": null,
            "align_self": null,
            "border": null,
            "bottom": null,
            "display": null,
            "flex": null,
            "flex_flow": null,
            "grid_area": null,
            "grid_auto_columns": null,
            "grid_auto_flow": null,
            "grid_auto_rows": null,
            "grid_column": null,
            "grid_gap": null,
            "grid_row": null,
            "grid_template_areas": null,
            "grid_template_columns": null,
            "grid_template_rows": null,
            "height": null,
            "justify_content": null,
            "justify_items": null,
            "left": null,
            "margin": null,
            "max_height": null,
            "max_width": null,
            "min_height": null,
            "min_width": null,
            "object_fit": null,
            "object_position": null,
            "order": null,
            "overflow": null,
            "overflow_x": null,
            "overflow_y": null,
            "padding": null,
            "right": null,
            "top": null,
            "visibility": null,
            "width": "20px"
          }
        },
        "479f9b4013d4449d9027dc38b016f728": {
          "model_module": "@jupyter-widgets/controls",
          "model_name": "ProgressStyleModel",
          "model_module_version": "1.5.0",
          "state": {
            "_model_module": "@jupyter-widgets/controls",
            "_model_module_version": "1.5.0",
            "_model_name": "ProgressStyleModel",
            "_view_count": null,
            "_view_module": "@jupyter-widgets/base",
            "_view_module_version": "1.2.0",
            "_view_name": "StyleView",
            "bar_color": null,
            "description_width": ""
          }
        },
        "41e706314b104d1f9ecbadd374dbbdf7": {
          "model_module": "@jupyter-widgets/base",
          "model_name": "LayoutModel",
          "model_module_version": "1.2.0",
          "state": {
            "_model_module": "@jupyter-widgets/base",
            "_model_module_version": "1.2.0",
            "_model_name": "LayoutModel",
            "_view_count": null,
            "_view_module": "@jupyter-widgets/base",
            "_view_module_version": "1.2.0",
            "_view_name": "LayoutView",
            "align_content": null,
            "align_items": null,
            "align_self": null,
            "border": null,
            "bottom": null,
            "display": null,
            "flex": null,
            "flex_flow": null,
            "grid_area": null,
            "grid_auto_columns": null,
            "grid_auto_flow": null,
            "grid_auto_rows": null,
            "grid_column": null,
            "grid_gap": null,
            "grid_row": null,
            "grid_template_areas": null,
            "grid_template_columns": null,
            "grid_template_rows": null,
            "height": null,
            "justify_content": null,
            "justify_items": null,
            "left": null,
            "margin": null,
            "max_height": null,
            "max_width": null,
            "min_height": null,
            "min_width": null,
            "object_fit": null,
            "object_position": null,
            "order": null,
            "overflow": null,
            "overflow_x": null,
            "overflow_y": null,
            "padding": null,
            "right": null,
            "top": null,
            "visibility": null,
            "width": null
          }
        },
        "b450b2f70b344366ae6000777f86878e": {
          "model_module": "@jupyter-widgets/controls",
          "model_name": "DescriptionStyleModel",
          "model_module_version": "1.5.0",
          "state": {
            "_model_module": "@jupyter-widgets/controls",
            "_model_module_version": "1.5.0",
            "_model_name": "DescriptionStyleModel",
            "_view_count": null,
            "_view_module": "@jupyter-widgets/base",
            "_view_module_version": "1.2.0",
            "_view_name": "StyleView",
            "description_width": ""
          }
        },
        "2b1492e7bca7450e93157cdff3da3aec": {
          "model_module": "@jupyter-widgets/controls",
          "model_name": "HBoxModel",
          "model_module_version": "1.5.0",
          "state": {
            "_dom_classes": [],
            "_model_module": "@jupyter-widgets/controls",
            "_model_module_version": "1.5.0",
            "_model_name": "HBoxModel",
            "_view_count": null,
            "_view_module": "@jupyter-widgets/controls",
            "_view_module_version": "1.5.0",
            "_view_name": "HBoxView",
            "box_style": "",
            "children": [
              "IPY_MODEL_c09f33ddec8941669238debdf764f837",
              "IPY_MODEL_f59d5cd1f7f84dea84c4cebddd4647cb",
              "IPY_MODEL_7c4ebad3c3944482916f958b0e2b8c2f"
            ],
            "layout": "IPY_MODEL_8412ed07723343e8a715c83cbf4ff593"
          }
        },
        "c09f33ddec8941669238debdf764f837": {
          "model_module": "@jupyter-widgets/controls",
          "model_name": "HTMLModel",
          "model_module_version": "1.5.0",
          "state": {
            "_dom_classes": [],
            "_model_module": "@jupyter-widgets/controls",
            "_model_module_version": "1.5.0",
            "_model_name": "HTMLModel",
            "_view_count": null,
            "_view_module": "@jupyter-widgets/controls",
            "_view_module_version": "1.5.0",
            "_view_name": "HTMLView",
            "description": "",
            "description_tooltip": null,
            "layout": "IPY_MODEL_f38f4782348741649f2fe3ebc4e10c28",
            "placeholder": "​",
            "style": "IPY_MODEL_0c3f14d2c7b945199685316e83613ed7",
            "value": "Shuffling /root/tensorflow_datasets/eurosat/rgb/2.0.0.incompleteCY39MV/eurosat-train.tfrecord*...:  94%"
          }
        },
        "f59d5cd1f7f84dea84c4cebddd4647cb": {
          "model_module": "@jupyter-widgets/controls",
          "model_name": "FloatProgressModel",
          "model_module_version": "1.5.0",
          "state": {
            "_dom_classes": [],
            "_model_module": "@jupyter-widgets/controls",
            "_model_module_version": "1.5.0",
            "_model_name": "FloatProgressModel",
            "_view_count": null,
            "_view_module": "@jupyter-widgets/controls",
            "_view_module_version": "1.5.0",
            "_view_name": "ProgressView",
            "bar_style": "",
            "description": "",
            "description_tooltip": null,
            "layout": "IPY_MODEL_28b8fb63c6b2484fb663e20026344c7f",
            "max": 27000,
            "min": 0,
            "orientation": "horizontal",
            "style": "IPY_MODEL_695dfe3c4c3e429781f2a324fb9b3332",
            "value": 27000
          }
        },
        "7c4ebad3c3944482916f958b0e2b8c2f": {
          "model_module": "@jupyter-widgets/controls",
          "model_name": "HTMLModel",
          "model_module_version": "1.5.0",
          "state": {
            "_dom_classes": [],
            "_model_module": "@jupyter-widgets/controls",
            "_model_module_version": "1.5.0",
            "_model_name": "HTMLModel",
            "_view_count": null,
            "_view_module": "@jupyter-widgets/controls",
            "_view_module_version": "1.5.0",
            "_view_name": "HTMLView",
            "description": "",
            "description_tooltip": null,
            "layout": "IPY_MODEL_d73a85886bef4c86bfa94778f78bffa0",
            "placeholder": "​",
            "style": "IPY_MODEL_a9a0438abc20444695bd2cbcc2f3dcc5",
            "value": " 25441/27000 [00:00&lt;00:00, 134939.68 examples/s]"
          }
        },
        "8412ed07723343e8a715c83cbf4ff593": {
          "model_module": "@jupyter-widgets/base",
          "model_name": "LayoutModel",
          "model_module_version": "1.2.0",
          "state": {
            "_model_module": "@jupyter-widgets/base",
            "_model_module_version": "1.2.0",
            "_model_name": "LayoutModel",
            "_view_count": null,
            "_view_module": "@jupyter-widgets/base",
            "_view_module_version": "1.2.0",
            "_view_name": "LayoutView",
            "align_content": null,
            "align_items": null,
            "align_self": null,
            "border": null,
            "bottom": null,
            "display": null,
            "flex": null,
            "flex_flow": null,
            "grid_area": null,
            "grid_auto_columns": null,
            "grid_auto_flow": null,
            "grid_auto_rows": null,
            "grid_column": null,
            "grid_gap": null,
            "grid_row": null,
            "grid_template_areas": null,
            "grid_template_columns": null,
            "grid_template_rows": null,
            "height": null,
            "justify_content": null,
            "justify_items": null,
            "left": null,
            "margin": null,
            "max_height": null,
            "max_width": null,
            "min_height": null,
            "min_width": null,
            "object_fit": null,
            "object_position": null,
            "order": null,
            "overflow": null,
            "overflow_x": null,
            "overflow_y": null,
            "padding": null,
            "right": null,
            "top": null,
            "visibility": "hidden",
            "width": null
          }
        },
        "f38f4782348741649f2fe3ebc4e10c28": {
          "model_module": "@jupyter-widgets/base",
          "model_name": "LayoutModel",
          "model_module_version": "1.2.0",
          "state": {
            "_model_module": "@jupyter-widgets/base",
            "_model_module_version": "1.2.0",
            "_model_name": "LayoutModel",
            "_view_count": null,
            "_view_module": "@jupyter-widgets/base",
            "_view_module_version": "1.2.0",
            "_view_name": "LayoutView",
            "align_content": null,
            "align_items": null,
            "align_self": null,
            "border": null,
            "bottom": null,
            "display": null,
            "flex": null,
            "flex_flow": null,
            "grid_area": null,
            "grid_auto_columns": null,
            "grid_auto_flow": null,
            "grid_auto_rows": null,
            "grid_column": null,
            "grid_gap": null,
            "grid_row": null,
            "grid_template_areas": null,
            "grid_template_columns": null,
            "grid_template_rows": null,
            "height": null,
            "justify_content": null,
            "justify_items": null,
            "left": null,
            "margin": null,
            "max_height": null,
            "max_width": null,
            "min_height": null,
            "min_width": null,
            "object_fit": null,
            "object_position": null,
            "order": null,
            "overflow": null,
            "overflow_x": null,
            "overflow_y": null,
            "padding": null,
            "right": null,
            "top": null,
            "visibility": null,
            "width": null
          }
        },
        "0c3f14d2c7b945199685316e83613ed7": {
          "model_module": "@jupyter-widgets/controls",
          "model_name": "DescriptionStyleModel",
          "model_module_version": "1.5.0",
          "state": {
            "_model_module": "@jupyter-widgets/controls",
            "_model_module_version": "1.5.0",
            "_model_name": "DescriptionStyleModel",
            "_view_count": null,
            "_view_module": "@jupyter-widgets/base",
            "_view_module_version": "1.2.0",
            "_view_name": "StyleView",
            "description_width": ""
          }
        },
        "28b8fb63c6b2484fb663e20026344c7f": {
          "model_module": "@jupyter-widgets/base",
          "model_name": "LayoutModel",
          "model_module_version": "1.2.0",
          "state": {
            "_model_module": "@jupyter-widgets/base",
            "_model_module_version": "1.2.0",
            "_model_name": "LayoutModel",
            "_view_count": null,
            "_view_module": "@jupyter-widgets/base",
            "_view_module_version": "1.2.0",
            "_view_name": "LayoutView",
            "align_content": null,
            "align_items": null,
            "align_self": null,
            "border": null,
            "bottom": null,
            "display": null,
            "flex": null,
            "flex_flow": null,
            "grid_area": null,
            "grid_auto_columns": null,
            "grid_auto_flow": null,
            "grid_auto_rows": null,
            "grid_column": null,
            "grid_gap": null,
            "grid_row": null,
            "grid_template_areas": null,
            "grid_template_columns": null,
            "grid_template_rows": null,
            "height": null,
            "justify_content": null,
            "justify_items": null,
            "left": null,
            "margin": null,
            "max_height": null,
            "max_width": null,
            "min_height": null,
            "min_width": null,
            "object_fit": null,
            "object_position": null,
            "order": null,
            "overflow": null,
            "overflow_x": null,
            "overflow_y": null,
            "padding": null,
            "right": null,
            "top": null,
            "visibility": null,
            "width": null
          }
        },
        "695dfe3c4c3e429781f2a324fb9b3332": {
          "model_module": "@jupyter-widgets/controls",
          "model_name": "ProgressStyleModel",
          "model_module_version": "1.5.0",
          "state": {
            "_model_module": "@jupyter-widgets/controls",
            "_model_module_version": "1.5.0",
            "_model_name": "ProgressStyleModel",
            "_view_count": null,
            "_view_module": "@jupyter-widgets/base",
            "_view_module_version": "1.2.0",
            "_view_name": "StyleView",
            "bar_color": null,
            "description_width": ""
          }
        },
        "d73a85886bef4c86bfa94778f78bffa0": {
          "model_module": "@jupyter-widgets/base",
          "model_name": "LayoutModel",
          "model_module_version": "1.2.0",
          "state": {
            "_model_module": "@jupyter-widgets/base",
            "_model_module_version": "1.2.0",
            "_model_name": "LayoutModel",
            "_view_count": null,
            "_view_module": "@jupyter-widgets/base",
            "_view_module_version": "1.2.0",
            "_view_name": "LayoutView",
            "align_content": null,
            "align_items": null,
            "align_self": null,
            "border": null,
            "bottom": null,
            "display": null,
            "flex": null,
            "flex_flow": null,
            "grid_area": null,
            "grid_auto_columns": null,
            "grid_auto_flow": null,
            "grid_auto_rows": null,
            "grid_column": null,
            "grid_gap": null,
            "grid_row": null,
            "grid_template_areas": null,
            "grid_template_columns": null,
            "grid_template_rows": null,
            "height": null,
            "justify_content": null,
            "justify_items": null,
            "left": null,
            "margin": null,
            "max_height": null,
            "max_width": null,
            "min_height": null,
            "min_width": null,
            "object_fit": null,
            "object_position": null,
            "order": null,
            "overflow": null,
            "overflow_x": null,
            "overflow_y": null,
            "padding": null,
            "right": null,
            "top": null,
            "visibility": null,
            "width": null
          }
        },
        "a9a0438abc20444695bd2cbcc2f3dcc5": {
          "model_module": "@jupyter-widgets/controls",
          "model_name": "DescriptionStyleModel",
          "model_module_version": "1.5.0",
          "state": {
            "_model_module": "@jupyter-widgets/controls",
            "_model_module_version": "1.5.0",
            "_model_name": "DescriptionStyleModel",
            "_view_count": null,
            "_view_module": "@jupyter-widgets/base",
            "_view_module_version": "1.2.0",
            "_view_name": "StyleView",
            "description_width": ""
          }
        }
      }
    }
  },
  "cells": [
    {
      "cell_type": "markdown",
      "metadata": {
        "id": "view-in-github",
        "colab_type": "text"
      },
      "source": [
        "<a href=\"https://colab.research.google.com/github/MrFluorine/GNR650/blob/main/Assignment2.ipynb\" target=\"_parent\"><img src=\"https://colab.research.google.com/assets/colab-badge.svg\" alt=\"Open In Colab\"/></a>"
      ]
    },
    {
      "cell_type": "markdown",
      "source": [
        "## Download and Imports\n"
      ],
      "metadata": {
        "id": "iA6E7lVM3WtQ"
      }
    },
    {
      "cell_type": "code",
      "source": [
        "!pip install vit-keras\n",
        "\n",
        "!pip install tensorflow-addons==0.16.1\n",
        "\n",
        "!pip install tensorflow-hub"
      ],
      "metadata": {
        "colab": {
          "base_uri": "https://localhost:8080/"
        },
        "id": "4HH4kuqZnPFW",
        "outputId": "3c7cdae6-f878-4a96-8854-e9a8b402cdca"
      },
      "execution_count": 1,
      "outputs": [
        {
          "output_type": "stream",
          "name": "stdout",
          "text": [
            "Collecting vit-keras\n",
            "  Downloading vit_keras-0.1.2-py3-none-any.whl (24 kB)\n",
            "Requirement already satisfied: scipy in /usr/local/lib/python3.10/dist-packages (from vit-keras) (1.10.1)\n",
            "Collecting validators (from vit-keras)\n",
            "  Downloading validators-0.22.0-py3-none-any.whl (26 kB)\n",
            "Requirement already satisfied: numpy<1.27.0,>=1.19.5 in /usr/local/lib/python3.10/dist-packages (from scipy->vit-keras) (1.23.5)\n",
            "Installing collected packages: validators, vit-keras\n",
            "Successfully installed validators-0.22.0 vit-keras-0.1.2\n",
            "Collecting tensorflow-addons==0.16.1\n",
            "  Downloading tensorflow_addons-0.16.1-cp310-cp310-manylinux_2_12_x86_64.manylinux2010_x86_64.whl (1.1 MB)\n",
            "\u001b[2K     \u001b[90m━━━━━━━━━━━━━━━━━━━━━━━━━━━━━━━━━━━━━━━━\u001b[0m \u001b[32m1.1/1.1 MB\u001b[0m \u001b[31m21.4 MB/s\u001b[0m eta \u001b[36m0:00:00\u001b[0m\n",
            "\u001b[?25hCollecting typeguard>=2.7 (from tensorflow-addons==0.16.1)\n",
            "  Downloading typeguard-4.1.3-py3-none-any.whl (33 kB)\n",
            "Collecting typing-extensions>=4.7.0 (from typeguard>=2.7->tensorflow-addons==0.16.1)\n",
            "  Downloading typing_extensions-4.7.1-py3-none-any.whl (33 kB)\n",
            "Installing collected packages: typing-extensions, typeguard, tensorflow-addons\n",
            "  Attempting uninstall: typing-extensions\n",
            "    Found existing installation: typing_extensions 4.5.0\n",
            "    Uninstalling typing_extensions-4.5.0:\n",
            "      Successfully uninstalled typing_extensions-4.5.0\n",
            "\u001b[31mERROR: pip's dependency resolver does not currently take into account all the packages that are installed. This behaviour is the source of the following dependency conflicts.\n",
            "tensorflow 2.13.0 requires typing-extensions<4.6.0,>=3.6.6, but you have typing-extensions 4.7.1 which is incompatible.\u001b[0m\u001b[31m\n",
            "\u001b[0mSuccessfully installed tensorflow-addons-0.16.1 typeguard-4.1.3 typing-extensions-4.7.1\n",
            "Requirement already satisfied: tensorflow-hub in /usr/local/lib/python3.10/dist-packages (0.14.0)\n",
            "Requirement already satisfied: numpy>=1.12.0 in /usr/local/lib/python3.10/dist-packages (from tensorflow-hub) (1.23.5)\n",
            "Requirement already satisfied: protobuf>=3.19.6 in /usr/local/lib/python3.10/dist-packages (from tensorflow-hub) (3.20.3)\n"
          ]
        }
      ]
    },
    {
      "cell_type": "code",
      "execution_count": 2,
      "metadata": {
        "colab": {
          "base_uri": "https://localhost:8080/"
        },
        "id": "E6gMHwJ6my1p",
        "outputId": "9579f288-2990-45b9-bfa2-9185e6dce921"
      },
      "outputs": [
        {
          "output_type": "stream",
          "name": "stderr",
          "text": [
            "/usr/local/lib/python3.10/dist-packages/tensorflow_addons/utils/ensure_tf_install.py:53: UserWarning: Tensorflow Addons supports using Python ops for all Tensorflow versions above or equal to 2.6.0 and strictly below 2.9.0 (nightly versions are not supported). \n",
            " The versions of TensorFlow you are currently using is 2.13.0 and is not supported. \n",
            "Some things might work, some things might not.\n",
            "If you were to encounter a bug, do not file an issue.\n",
            "If you want to make sure you're using a tested and supported configuration, either change the TensorFlow version or the TensorFlow Addons's version. \n",
            "You can find the compatibility matrix in TensorFlow Addon's readme:\n",
            "https://github.com/tensorflow/addons\n",
            "  warnings.warn(\n"
          ]
        }
      ],
      "source": [
        "import tensorflow as tf\n",
        "import tensorflow as tf\n",
        "from tensorflow import keras\n",
        "from tensorflow.keras import layers\n",
        "from tensorflow.keras.layers import Dense\n",
        "from tensorflow.keras.optimizers import Adam\n",
        "from tensorflow.keras.losses import SparseCategoricalCrossentropy\n",
        "from tensorflow.keras.metrics import SparseCategoricalAccuracy\n",
        "import numpy as np\n",
        "import matplotlib.pyplot as plt\n",
        "from tensorflow.keras.utils import to_categorical\n",
        "from sklearn.model_selection import train_test_split\n",
        "from vit_keras import vit, utils, visualize"
      ]
    },
    {
      "cell_type": "markdown",
      "source": [
        "## Loading and preprocessing data"
      ],
      "metadata": {
        "id": "P8hNXmGj3cho"
      }
    },
    {
      "cell_type": "code",
      "source": [
        "import tensorflow_datasets as tfds\n",
        "\n",
        "# Load the EuroSAT dataset\n",
        "ds, ds_info = tfds.load('eurosat/rgb', split='train', with_info=True, as_supervised = True)"
      ],
      "metadata": {
        "id": "V01HVVw6vcbE",
        "colab": {
          "base_uri": "https://localhost:8080/",
          "height": 148,
          "referenced_widgets": [
            "5e760b912afb4560b95b3c21a0e0849e",
            "58b6b966b17d473681fd0ae224b048b3",
            "0ec07b845620491798742532acfa59d9",
            "75f7103fe1e944ba8437bff634e9685a",
            "e0895fc84d494e85ae712ac0d2ff3a03",
            "29ea8d9caa1644dbb159f1f6500e4d31",
            "b28a065eac5142dd8d6172593282ef5a",
            "f815b82450234089a09f2e6659404ae9",
            "a880268b67cd44d99b1c1bb4e9f83675",
            "8e8a510445264170acc8ef9707bbd2ee",
            "bfb7d8dec6044513ab7c892a435be594",
            "55dfcb376f4b484e984f25e1d211dfaf",
            "00887d4ca7f945baa33c79930d58c7ce",
            "904019ab2cd849deb37ec7e1bf1b23c6",
            "8cc998863e9a4d26a8c4c71555d37cf2",
            "18b5cc60125c4e98ab75876887245036",
            "7831299384cb41e1be81e34a341be5f8",
            "ce4ea01884974ad7afb83c11521e75ad",
            "39f74e411c904c45bd71fa3992997cde",
            "a53116410d9c4bb098eed56c04e6c420",
            "aadb15d08f034e45b6e5a03709bcf222",
            "48a682d2a65c4a879585f1901064b2bb",
            "fde831dbc96d4274a8bc2205302b7732",
            "69cffafe7fab4516ab51a629bdeb377c",
            "0a43a52ee1d948c88bbb95ca83d02f23",
            "e1721228278d496e8c75f289a7dbf241",
            "b87b6c5c1f21494387a6e6f2f2130d72",
            "f39d94e2cb864500a280d3c7656574d5",
            "d969d42723ed41e78c8cb0f160c080c7",
            "170198057d8f44f694278f0df4b497ed",
            "479f9b4013d4449d9027dc38b016f728",
            "41e706314b104d1f9ecbadd374dbbdf7",
            "b450b2f70b344366ae6000777f86878e",
            "2b1492e7bca7450e93157cdff3da3aec",
            "c09f33ddec8941669238debdf764f837",
            "f59d5cd1f7f84dea84c4cebddd4647cb",
            "7c4ebad3c3944482916f958b0e2b8c2f",
            "8412ed07723343e8a715c83cbf4ff593",
            "f38f4782348741649f2fe3ebc4e10c28",
            "0c3f14d2c7b945199685316e83613ed7",
            "28b8fb63c6b2484fb663e20026344c7f",
            "695dfe3c4c3e429781f2a324fb9b3332",
            "d73a85886bef4c86bfa94778f78bffa0",
            "a9a0438abc20444695bd2cbcc2f3dcc5"
          ]
        },
        "outputId": "8dff92ce-eb14-4aa6-ab46-9656fb908d4f"
      },
      "execution_count": 3,
      "outputs": [
        {
          "output_type": "stream",
          "name": "stdout",
          "text": [
            "Downloading and preparing dataset 89.91 MiB (download: 89.91 MiB, generated: Unknown size, total: 89.91 MiB) to /root/tensorflow_datasets/eurosat/rgb/2.0.0...\n"
          ]
        },
        {
          "output_type": "display_data",
          "data": {
            "text/plain": [
              "Dl Completed...: 0 url [00:00, ? url/s]"
            ],
            "application/vnd.jupyter.widget-view+json": {
              "version_major": 2,
              "version_minor": 0,
              "model_id": "5e760b912afb4560b95b3c21a0e0849e"
            }
          },
          "metadata": {}
        },
        {
          "output_type": "display_data",
          "data": {
            "text/plain": [
              "Dl Size...: 0 MiB [00:00, ? MiB/s]"
            ],
            "application/vnd.jupyter.widget-view+json": {
              "version_major": 2,
              "version_minor": 0,
              "model_id": "55dfcb376f4b484e984f25e1d211dfaf"
            }
          },
          "metadata": {}
        },
        {
          "output_type": "display_data",
          "data": {
            "text/plain": [
              "Extraction completed...: 0 file [00:00, ? file/s]"
            ],
            "application/vnd.jupyter.widget-view+json": {
              "version_major": 2,
              "version_minor": 0,
              "model_id": "fde831dbc96d4274a8bc2205302b7732"
            }
          },
          "metadata": {}
        },
        {
          "output_type": "display_data",
          "data": {
            "text/plain": [
              "Shuffling /root/tensorflow_datasets/eurosat/rgb/2.0.0.incompleteCY39MV/eurosat-train.tfrecord*...:   0%|      …"
            ],
            "application/vnd.jupyter.widget-view+json": {
              "version_major": 2,
              "version_minor": 0,
              "model_id": "2b1492e7bca7450e93157cdff3da3aec"
            }
          },
          "metadata": {}
        },
        {
          "output_type": "stream",
          "name": "stdout",
          "text": [
            "Dataset eurosat downloaded and prepared to /root/tensorflow_datasets/eurosat/rgb/2.0.0. Subsequent calls will reuse this data.\n"
          ]
        }
      ]
    },
    {
      "cell_type": "code",
      "source": [
        "images = []\n",
        "labels = []\n",
        "for image, label in ds:\n",
        "    images.append(image.numpy())  # Convert the TensorFlow tensor to NumPy\n",
        "    labels.append(label.numpy())  # Convert the TensorFlow tensor to NumPy\n"
      ],
      "metadata": {
        "id": "WqBmDmGcwbbh"
      },
      "execution_count": 4,
      "outputs": []
    },
    {
      "cell_type": "code",
      "source": [
        "images = np.array(images)\n",
        "labels = np.array(labels)\n",
        "labels = to_categorical(labels, num_classes=10)\n",
        "X_train, X_test, y_train, y_test = train_test_split(images, labels, test_size=0.15, random_state=42)\n"
      ],
      "metadata": {
        "id": "0iArjhqXAtyx"
      },
      "execution_count": 5,
      "outputs": []
    },
    {
      "cell_type": "code",
      "source": [
        "plt.imshow(X_train[5])\n",
        "print(y_train[5])"
      ],
      "metadata": {
        "colab": {
          "base_uri": "https://localhost:8080/",
          "height": 449
        },
        "id": "PVVrxE6fUSRJ",
        "outputId": "f23f46f4-0b57-4b90-8553-e4daaa65d496"
      },
      "execution_count": 6,
      "outputs": [
        {
          "output_type": "stream",
          "name": "stdout",
          "text": [
            "[0. 0. 0. 1. 0. 0. 0. 0. 0. 0.]\n"
          ]
        },
        {
          "output_type": "display_data",
          "data": {
            "text/plain": [
              "<Figure size 640x480 with 1 Axes>"
            ],
            "image/png": "[encoded data removed]"
          },
          "metadata": {}
        }
      ]
    },
    {
      "cell_type": "markdown",
      "source": [
        "## MODELS_1 : Fine tune of final layer"
      ],
      "metadata": {
        "id": "1pGjk6pGGyCC"
      }
    },
    {
      "cell_type": "code",
      "source": [
        "# Load the pre-trained ViT model\n",
        "vit_model = vit.vit_b16(\n",
        "        image_size = 64,\n",
        "        activation = \"softmax\",\n",
        "        pretrained = True,\n",
        "        include_top = False,\n",
        "        pretrained_top = False,\n",
        "        classes = 10)\n",
        "\n",
        "# Fine-tune the final layer only\n",
        "for layer in vit_model.layers[:-1]:\n",
        "    layer.trainable = False\n",
        "\n",
        "\n",
        "model = keras.Sequential([\n",
        "    vit_model,\n",
        "    layers.Flatten(),\n",
        "    layers.Dense(10, activation='softmax')\n",
        "])\n",
        "\n",
        "\n",
        "model.compile(\n",
        "    optimizer='adam',\n",
        "    loss='categorical_crossentropy',\n",
        "    metrics=['accuracy']\n",
        ")\n",
        "\n"
      ],
      "metadata": {
        "colab": {
          "base_uri": "https://localhost:8080/"
        },
        "id": "qIy02ip6ELIg",
        "outputId": "1bcd9157-23a0-477f-c041-f3acb630e0db"
      },
      "execution_count": 7,
      "outputs": [
        {
          "output_type": "stream",
          "name": "stdout",
          "text": [
            "Downloading data from https://github.com/faustomorales/vit-keras/releases/download/dl/ViT-B_16_imagenet21k+imagenet2012.npz\n",
            "347502902/347502902 [==============================] - 21s 0us/step\n"
          ]
        },
        {
          "output_type": "stream",
          "name": "stderr",
          "text": [
            "/usr/local/lib/python3.10/dist-packages/vit_keras/utils.py:81: UserWarning: Resizing position embeddings from 24, 24 to 4, 4\n",
            "  warnings.warn(\n"
          ]
        }
      ]
    },
    {
      "cell_type": "code",
      "source": [
        "model.summary()"
      ],
      "metadata": {
        "colab": {
          "base_uri": "https://localhost:8080/"
        },
        "id": "K7NRrA8GX_Tv",
        "outputId": "9f6794de-ec0d-45a6-b5fe-00055990df06"
      },
      "execution_count": 8,
      "outputs": [
        {
          "output_type": "stream",
          "name": "stdout",
          "text": [
            "Model: \"sequential\"\n",
            "_________________________________________________________________\n",
            " Layer (type)                Output Shape              Param #   \n",
            "=================================================================\n",
            " vit-b16 (Functional)        (None, 768)               85660416  \n",
            "                                                                 \n",
            " flatten (Flatten)           (None, 768)               0         \n",
            "                                                                 \n",
            " dense (Dense)               (None, 10)                7690      \n",
            "                                                                 \n",
            "=================================================================\n",
            "Total params: 85668106 (326.80 MB)\n",
            "Trainable params: 7690 (30.04 KB)\n",
            "Non-trainable params: 85660416 (326.77 MB)\n",
            "_________________________________________________________________\n"
          ]
        }
      ]
    },
    {
      "cell_type": "code",
      "source": [
        "history = model.fit(X_train, y_train, epochs=25, batch_size = 128, validation_split=0.1)"
      ],
      "metadata": {
        "colab": {
          "base_uri": "https://localhost:8080/"
        },
        "id": "2-UKrCOSVrfM",
        "outputId": "9ad6943b-0179-4c6e-b9ac-e22f0f55c18c"
      },
      "execution_count": 9,
      "outputs": [
        {
          "output_type": "stream",
          "name": "stdout",
          "text": [
            "Epoch 1/25\n",
            "162/162 [==============================] - 55s 221ms/step - loss: 1.4971 - accuracy: 0.4570 - val_loss: 1.1571 - val_accuracy: 0.5961\n",
            "Epoch 2/25\n",
            "162/162 [==============================] - 31s 190ms/step - loss: 1.1334 - accuracy: 0.5973 - val_loss: 1.0363 - val_accuracy: 0.6349\n",
            "Epoch 3/25\n",
            "162/162 [==============================] - 33s 202ms/step - loss: 1.0331 - accuracy: 0.6315 - val_loss: 0.9719 - val_accuracy: 0.6627\n",
            "Epoch 4/25\n",
            "162/162 [==============================] - 30s 187ms/step - loss: 0.9744 - accuracy: 0.6549 - val_loss: 0.9185 - val_accuracy: 0.6832\n",
            "Epoch 5/25\n",
            "162/162 [==============================] - 33s 204ms/step - loss: 0.9428 - accuracy: 0.6672 - val_loss: 0.8989 - val_accuracy: 0.6863\n",
            "Epoch 6/25\n",
            "162/162 [==============================] - 30s 187ms/step - loss: 0.9157 - accuracy: 0.6766 - val_loss: 0.8915 - val_accuracy: 0.6837\n",
            "Epoch 7/25\n",
            "162/162 [==============================] - 33s 202ms/step - loss: 0.8945 - accuracy: 0.6814 - val_loss: 0.8573 - val_accuracy: 0.7068\n",
            "Epoch 8/25\n",
            "162/162 [==============================] - 33s 203ms/step - loss: 0.8785 - accuracy: 0.6819 - val_loss: 0.8524 - val_accuracy: 0.7089\n",
            "Epoch 9/25\n",
            "162/162 [==============================] - 30s 188ms/step - loss: 0.8658 - accuracy: 0.6913 - val_loss: 0.8588 - val_accuracy: 0.7041\n",
            "Epoch 10/25\n",
            "162/162 [==============================] - 33s 202ms/step - loss: 0.8539 - accuracy: 0.6946 - val_loss: 0.8208 - val_accuracy: 0.7229\n",
            "Epoch 11/25\n",
            "162/162 [==============================] - 33s 202ms/step - loss: 0.8511 - accuracy: 0.6922 - val_loss: 0.8197 - val_accuracy: 0.7137\n",
            "Epoch 12/25\n",
            "162/162 [==============================] - 31s 191ms/step - loss: 0.8457 - accuracy: 0.6931 - val_loss: 0.8268 - val_accuracy: 0.7050\n",
            "Epoch 13/25\n",
            "162/162 [==============================] - 35s 218ms/step - loss: 0.8307 - accuracy: 0.6991 - val_loss: 0.8162 - val_accuracy: 0.7159\n",
            "Epoch 14/25\n",
            "162/162 [==============================] - 33s 204ms/step - loss: 0.8291 - accuracy: 0.6978 - val_loss: 0.8244 - val_accuracy: 0.7037\n",
            "Epoch 15/25\n",
            "162/162 [==============================] - 33s 202ms/step - loss: 0.8308 - accuracy: 0.6999 - val_loss: 0.7980 - val_accuracy: 0.7259\n",
            "Epoch 16/25\n",
            "162/162 [==============================] - 35s 215ms/step - loss: 0.8183 - accuracy: 0.7006 - val_loss: 0.8130 - val_accuracy: 0.7155\n",
            "Epoch 17/25\n",
            "162/162 [==============================] - 33s 205ms/step - loss: 0.8182 - accuracy: 0.7032 - val_loss: 0.8076 - val_accuracy: 0.7194\n",
            "Epoch 18/25\n",
            "162/162 [==============================] - 34s 212ms/step - loss: 0.8143 - accuracy: 0.7024 - val_loss: 0.7838 - val_accuracy: 0.7329\n",
            "Epoch 19/25\n",
            "162/162 [==============================] - 33s 203ms/step - loss: 0.8054 - accuracy: 0.7080 - val_loss: 0.8126 - val_accuracy: 0.7037\n",
            "Epoch 20/25\n",
            "162/162 [==============================] - 31s 189ms/step - loss: 0.8023 - accuracy: 0.7084 - val_loss: 0.7770 - val_accuracy: 0.7281\n",
            "Epoch 21/25\n",
            "162/162 [==============================] - 33s 202ms/step - loss: 0.8015 - accuracy: 0.7100 - val_loss: 0.8083 - val_accuracy: 0.7089\n",
            "Epoch 22/25\n",
            "162/162 [==============================] - 34s 209ms/step - loss: 0.8100 - accuracy: 0.7047 - val_loss: 0.7969 - val_accuracy: 0.7094\n",
            "Epoch 23/25\n",
            "162/162 [==============================] - 33s 204ms/step - loss: 0.8040 - accuracy: 0.7068 - val_loss: 0.7804 - val_accuracy: 0.7259\n",
            "Epoch 24/25\n",
            "162/162 [==============================] - 33s 201ms/step - loss: 0.7966 - accuracy: 0.7114 - val_loss: 0.7969 - val_accuracy: 0.7198\n",
            "Epoch 25/25\n",
            "162/162 [==============================] - 31s 189ms/step - loss: 0.7996 - accuracy: 0.7088 - val_loss: 0.7840 - val_accuracy: 0.7264\n"
          ]
        }
      ]
    },
    {
      "cell_type": "code",
      "source": [
        "results_1 = model.evaluate(X_test, y_test, batch_size = 32)"
      ],
      "metadata": {
        "colab": {
          "base_uri": "https://localhost:8080/"
        },
        "id": "VmxLnYch9iFi",
        "outputId": "23d6a5d9-d971-470d-fd8a-b5d75f72cbdb"
      },
      "execution_count": 10,
      "outputs": [
        {
          "output_type": "stream",
          "name": "stdout",
          "text": [
            "127/127 [==============================] - 7s 56ms/step - loss: 0.7363 - accuracy: 0.7437\n"
          ]
        }
      ]
    },
    {
      "cell_type": "code",
      "source": [
        "training_loss = history.history['loss']\n",
        "validation_loss = history.history['val_loss']\n",
        "epochs = range(1, len(training_loss) + 1)\n",
        "plt.plot(epochs, training_loss, label='Training Loss')\n",
        "plt.plot(epochs, validation_loss, label='Validation Loss')\n",
        "plt.xlabel('Epochs')\n",
        "plt.ylabel('Loss')\n",
        "plt.title('Loss vs. Epochs')\n",
        "plt.legend()\n",
        "plt.show()"
      ],
      "metadata": {
        "colab": {
          "base_uri": "https://localhost:8080/",
          "height": 472
        },
        "id": "EfRrUSr5lGaD",
        "outputId": "b6e72f4b-730f-44a3-ed64-82e7785801ca"
      },
      "execution_count": 13,
      "outputs": [
        {
          "output_type": "display_data",
          "data": {
            "text/plain": [
              "<Figure size 640x480 with 1 Axes>"
            ],
            "image/png": "[encoded data removed]"
          },
          "metadata": {}
        }
      ]
    },
    {
      "cell_type": "code",
      "source": [
        "model.save(\"model1.h\")"
      ],
      "metadata": {
        "colab": {
          "base_uri": "https://localhost:8080/"
        },
        "id": "PEBwSz1ZljlM",
        "outputId": "431d0df8-5b70-44eb-f827-757cf40bf280"
      },
      "execution_count": 14,
      "outputs": [
        {
          "output_type": "stream",
          "name": "stderr",
          "text": [
            "WARNING:absl:`vit-b16_input` is not a valid tf.function parameter name. Sanitizing to `vit_b16_input`.\n",
            "WARNING:absl:`vit-b16_input` is not a valid tf.function parameter name. Sanitizing to `vit_b16_input`.\n",
            "WARNING:absl:`vit-b16_input` is not a valid tf.function parameter name. Sanitizing to `vit_b16_input`.\n"
          ]
        }
      ]
    },
    {
      "cell_type": "markdown",
      "source": [
        "Visualizing Attention Maps"
      ],
      "metadata": {
        "id": "rq1XNcuxNUJe"
      }
    },
    {
      "cell_type": "code",
      "source": [
        "image = X_train[6]\n",
        "model_1 = vit_model = vit.vit_b16(\n",
        "        image_size = 64,\n",
        "        activation = \"softmax\",\n",
        "        pretrained = True,\n",
        "        include_top = False,\n",
        "        pretrained_top = False,\n",
        "        classes = 10)\n",
        "attention_map = visualize.attention_map(model=model_1, image=image)\n",
        "# Plot results\n",
        "fig, (ax1, ax2) = plt.subplots(ncols=2)\n",
        "ax1.axis('off')\n",
        "ax2.axis('off')\n",
        "ax1.set_title('Original')\n",
        "ax2.set_title('Attention Map')\n",
        "_ = ax1.imshow(image)\n",
        "_ = ax2.imshow(attention_map)"
      ],
      "metadata": {
        "id": "Ii8lil4cNTjS",
        "colab": {
          "base_uri": "https://localhost:8080/",
          "height": 301
        },
        "outputId": "2e30c160-5744-4371-a686-330f2dcc3e4c"
      },
      "execution_count": 53,
      "outputs": [
        {
          "output_type": "stream",
          "name": "stdout",
          "text": [
            "1/1 [==============================] - 4s 4s/step\n"
          ]
        },
        {
          "output_type": "display_data",
          "data": {
            "text/plain": [
              "<Figure size 640x480 with 2 Axes>"
            ],
            "image/png": "[encoded data removed]"
          },
          "metadata": {}
        }
      ]
    },
    {
      "cell_type": "markdown",
      "source": [
        "## MODEL_2: Finetune the bottom layers"
      ],
      "metadata": {
        "id": "t2B7TQVO4qAC"
      }
    },
    {
      "cell_type": "code",
      "source": [
        "from tensorflow.python.data.ops.options import model_pb2\n",
        "# Load the pre-trained ViT model\n",
        "model2= vit.vit_b16(\n",
        "        image_size = 64,\n",
        "        activation='softmax',\n",
        "        pretrained = True,\n",
        "        include_top = True,\n",
        "        pretrained_top = False,\n",
        "        classes = 10)\n",
        "\n",
        "# Fine-tune the bottom layers only\n",
        "for layer in model2.layers[5:]:\n",
        "    layer.trainable = False\n",
        "for layer in model2.layers[:5]:\n",
        "    layer.trainable = True\n",
        "model2.layers[-1].trainable = True\n",
        "\n",
        "model2.compile(\n",
        "    optimizer='adam',\n",
        "    loss='categorical_crossentropy',\n",
        "    metrics=['accuracy']\n",
        ")\n",
        "\n",
        "model2.summary()"
      ],
      "metadata": {
        "colab": {
          "base_uri": "https://localhost:8080/"
        },
        "id": "yNOdSCnR66oZ",
        "outputId": "28aa7c70-a3cb-42de-db08-5bf8882ac11e"
      },
      "execution_count": 19,
      "outputs": [
        {
          "output_type": "stream",
          "name": "stderr",
          "text": [
            "/usr/local/lib/python3.10/dist-packages/vit_keras/utils.py:81: UserWarning: Resizing position embeddings from 24, 24 to 4, 4\n",
            "  warnings.warn(\n"
          ]
        },
        {
          "output_type": "stream",
          "name": "stdout",
          "text": [
            "Model: \"vit-b16\"\n",
            "_________________________________________________________________\n",
            " Layer (type)                Output Shape              Param #   \n",
            "=================================================================\n",
            " input_2 (InputLayer)        [(None, 64, 64, 3)]       0         \n",
            "                                                                 \n",
            " embedding (Conv2D)          (None, 4, 4, 768)         590592    \n",
            "                                                                 \n",
            " reshape_1 (Reshape)         (None, 16, 768)           0         \n",
            "                                                                 \n",
            " class_token (ClassToken)    (None, 17, 768)           768       \n",
            "                                                                 \n",
            " Transformer/posembed_input  (None, 17, 768)           13056     \n",
            "  (AddPositionEmbs)                                              \n",
            "                                                                 \n",
            " Transformer/encoderblock_0  ((None, 17, 768),         7087872   \n",
            "  (TransformerBlock)          (None, 12, None, None)             \n",
            "                             )                                   \n",
            "                                                                 \n",
            " Transformer/encoderblock_1  ((None, 17, 768),         7087872   \n",
            "  (TransformerBlock)          (None, 12, None, None)             \n",
            "                             )                                   \n",
            "                                                                 \n",
            " Transformer/encoderblock_2  ((None, 17, 768),         7087872   \n",
            "  (TransformerBlock)          (None, 12, None, None)             \n",
            "                             )                                   \n",
            "                                                                 \n",
            " Transformer/encoderblock_3  ((None, 17, 768),         7087872   \n",
            "  (TransformerBlock)          (None, 12, None, None)             \n",
            "                             )                                   \n",
            "                                                                 \n",
            " Transformer/encoderblock_4  ((None, 17, 768),         7087872   \n",
            "  (TransformerBlock)          (None, 12, None, None)             \n",
            "                             )                                   \n",
            "                                                                 \n",
            " Transformer/encoderblock_5  ((None, 17, 768),         7087872   \n",
            "  (TransformerBlock)          (None, 12, None, None)             \n",
            "                             )                                   \n",
            "                                                                 \n",
            " Transformer/encoderblock_6  ((None, 17, 768),         7087872   \n",
            "  (TransformerBlock)          (None, 12, None, None)             \n",
            "                             )                                   \n",
            "                                                                 \n",
            " Transformer/encoderblock_7  ((None, 17, 768),         7087872   \n",
            "  (TransformerBlock)          (None, 12, None, None)             \n",
            "                             )                                   \n",
            "                                                                 \n",
            " Transformer/encoderblock_8  ((None, 17, 768),         7087872   \n",
            "  (TransformerBlock)          (None, 12, None, None)             \n",
            "                             )                                   \n",
            "                                                                 \n",
            " Transformer/encoderblock_9  ((None, 17, 768),         7087872   \n",
            "  (TransformerBlock)          (None, 12, None, None)             \n",
            "                             )                                   \n",
            "                                                                 \n",
            " Transformer/encoderblock_1  ((None, 17, 768),         7087872   \n",
            " 0 (TransformerBlock)         (None, 12, None, None)             \n",
            "                             )                                   \n",
            "                                                                 \n",
            " Transformer/encoderblock_1  ((None, 17, 768),         7087872   \n",
            " 1 (TransformerBlock)         (None, 12, None, None)             \n",
            "                             )                                   \n",
            "                                                                 \n",
            " Transformer/encoder_norm (  (None, 17, 768)           1536      \n",
            " LayerNormalization)                                             \n",
            "                                                                 \n",
            " ExtractToken (Lambda)       (None, 768)               0         \n",
            "                                                                 \n",
            " head (Dense)                (None, 10)                7690      \n",
            "                                                                 \n",
            "=================================================================\n",
            "Total params: 85668106 (326.80 MB)\n",
            "Trainable params: 612106 (2.33 MB)\n",
            "Non-trainable params: 85056000 (324.46 MB)\n",
            "_________________________________________________________________\n"
          ]
        }
      ]
    },
    {
      "cell_type": "code",
      "source": [
        "model2.layers[-1].trainable"
      ],
      "metadata": {
        "colab": {
          "base_uri": "https://localhost:8080/"
        },
        "id": "P2-9GtOuA4Oh",
        "outputId": "6007a773-91b6-4c56-c364-222ded7d1645"
      },
      "execution_count": 20,
      "outputs": [
        {
          "output_type": "execute_result",
          "data": {
            "text/plain": [
              "True"
            ]
          },
          "metadata": {},
          "execution_count": 20
        }
      ]
    },
    {
      "cell_type": "code",
      "source": [
        "history2 = model2.fit(X_train, y_train, epochs=25, batch_size = 128, validation_split=0.1)"
      ],
      "metadata": {
        "colab": {
          "base_uri": "https://localhost:8080/"
        },
        "id": "OWpct4ZT8qul",
        "outputId": "ff77197b-8c49-4a0f-e2a6-469f6003ce53"
      },
      "execution_count": 21,
      "outputs": [
        {
          "output_type": "stream",
          "name": "stdout",
          "text": [
            "Epoch 1/25\n",
            "162/162 [==============================] - 78s 385ms/step - loss: 2.1406 - accuracy: 0.1950 - val_loss: 1.8268 - val_accuracy: 0.3133\n",
            "Epoch 2/25\n",
            "162/162 [==============================] - 59s 364ms/step - loss: 1.7538 - accuracy: 0.3187 - val_loss: 1.6416 - val_accuracy: 0.3887\n",
            "Epoch 3/25\n",
            "162/162 [==============================] - 59s 363ms/step - loss: 1.4623 - accuracy: 0.4724 - val_loss: 1.2986 - val_accuracy: 0.5664\n",
            "Epoch 4/25\n",
            "162/162 [==============================] - 61s 379ms/step - loss: 1.2818 - accuracy: 0.5370 - val_loss: 1.2606 - val_accuracy: 0.5325\n",
            "Epoch 5/25\n",
            "162/162 [==============================] - 61s 378ms/step - loss: 1.1993 - accuracy: 0.5713 - val_loss: 1.1780 - val_accuracy: 0.5878\n",
            "Epoch 6/25\n",
            "162/162 [==============================] - 61s 378ms/step - loss: 1.1265 - accuracy: 0.5940 - val_loss: 1.2086 - val_accuracy: 0.5664\n",
            "Epoch 7/25\n",
            "162/162 [==============================] - 61s 377ms/step - loss: 1.1007 - accuracy: 0.6060 - val_loss: 1.0859 - val_accuracy: 0.6357\n",
            "Epoch 8/25\n",
            "162/162 [==============================] - 61s 379ms/step - loss: 1.0562 - accuracy: 0.6224 - val_loss: 0.9733 - val_accuracy: 0.6662\n",
            "Epoch 9/25\n",
            "162/162 [==============================] - 61s 378ms/step - loss: 1.0203 - accuracy: 0.6343 - val_loss: 1.0023 - val_accuracy: 0.6606\n",
            "Epoch 10/25\n",
            "162/162 [==============================] - 61s 378ms/step - loss: 0.9950 - accuracy: 0.6450 - val_loss: 0.9717 - val_accuracy: 0.6619\n",
            "Epoch 11/25\n",
            "162/162 [==============================] - 59s 364ms/step - loss: 0.9768 - accuracy: 0.6527 - val_loss: 1.0109 - val_accuracy: 0.6383\n",
            "Epoch 12/25\n",
            "162/162 [==============================] - 62s 380ms/step - loss: 0.9632 - accuracy: 0.6532 - val_loss: 1.0163 - val_accuracy: 0.6601\n",
            "Epoch 13/25\n",
            "162/162 [==============================] - 61s 379ms/step - loss: 0.9425 - accuracy: 0.6638 - val_loss: 1.0541 - val_accuracy: 0.6327\n",
            "Epoch 14/25\n",
            "162/162 [==============================] - 61s 379ms/step - loss: 0.9272 - accuracy: 0.6672 - val_loss: 0.9640 - val_accuracy: 0.6671\n",
            "Epoch 15/25\n",
            "162/162 [==============================] - 62s 380ms/step - loss: 0.9163 - accuracy: 0.6702 - val_loss: 0.9056 - val_accuracy: 0.6745\n",
            "Epoch 16/25\n",
            "162/162 [==============================] - 63s 388ms/step - loss: 0.8960 - accuracy: 0.6803 - val_loss: 0.9205 - val_accuracy: 0.6754\n",
            "Epoch 17/25\n",
            "162/162 [==============================] - 64s 393ms/step - loss: 0.8871 - accuracy: 0.6845 - val_loss: 0.9760 - val_accuracy: 0.6706\n",
            "Epoch 18/25\n",
            "162/162 [==============================] - 61s 378ms/step - loss: 0.8833 - accuracy: 0.6867 - val_loss: 0.8845 - val_accuracy: 0.7085\n",
            "Epoch 19/25\n",
            "162/162 [==============================] - 62s 380ms/step - loss: 0.8610 - accuracy: 0.6965 - val_loss: 0.9114 - val_accuracy: 0.6784\n",
            "Epoch 20/25\n",
            "162/162 [==============================] - 61s 379ms/step - loss: 0.8790 - accuracy: 0.6852 - val_loss: 0.8615 - val_accuracy: 0.6998\n",
            "Epoch 21/25\n",
            "162/162 [==============================] - 61s 378ms/step - loss: 0.8503 - accuracy: 0.6961 - val_loss: 0.8736 - val_accuracy: 0.6906\n",
            "Epoch 22/25\n",
            "162/162 [==============================] - 61s 378ms/step - loss: 0.8367 - accuracy: 0.7008 - val_loss: 0.8390 - val_accuracy: 0.7072\n",
            "Epoch 23/25\n",
            "162/162 [==============================] - 61s 378ms/step - loss: 0.8281 - accuracy: 0.7025 - val_loss: 0.8925 - val_accuracy: 0.6806\n",
            "Epoch 24/25\n",
            "162/162 [==============================] - 61s 379ms/step - loss: 0.8153 - accuracy: 0.7064 - val_loss: 0.8044 - val_accuracy: 0.7133\n",
            "Epoch 25/25\n",
            "162/162 [==============================] - 59s 364ms/step - loss: 0.8237 - accuracy: 0.7057 - val_loss: 0.8479 - val_accuracy: 0.7150\n"
          ]
        }
      ]
    },
    {
      "cell_type": "code",
      "source": [
        "results_ = model.evaluate(X_test, y_test, batch_size = 32)"
      ],
      "metadata": {
        "colab": {
          "base_uri": "https://localhost:8080/"
        },
        "id": "DOYZzOflITty",
        "outputId": "b26f07e8-70cb-4a62-ef1c-5a638714e2a7"
      },
      "execution_count": 23,
      "outputs": [
        {
          "output_type": "stream",
          "name": "stdout",
          "text": [
            "127/127 [==============================] - 7s 54ms/step - loss: 0.7363 - accuracy: 0.7437\n"
          ]
        }
      ]
    },
    {
      "cell_type": "code",
      "source": [
        "training_loss = history2.history['loss']\n",
        "validation_loss = history2.history['val_loss']\n",
        "epochs = range(1, len(training_loss) + 1)\n",
        "plt.plot(epochs, training_loss, label='Training Loss')\n",
        "plt.plot(epochs, validation_loss, label='Validation Loss')\n",
        "plt.xlabel('Epochs')\n",
        "plt.ylabel('Loss')\n",
        "plt.title('Loss vs. Epochs')\n",
        "plt.legend()\n",
        "plt.show()"
      ],
      "metadata": {
        "colab": {
          "base_uri": "https://localhost:8080/",
          "height": 472
        },
        "id": "qp_xAr63vnfg",
        "outputId": "05d88648-93ba-4a83-f3d9-496368a7095a"
      },
      "execution_count": 22,
      "outputs": [
        {
          "output_type": "display_data",
          "data": {
            "text/plain": [
              "<Figure size 640x480 with 1 Axes>"
            ],
            "image/png": "[encoded data removed]"
          },
          "metadata": {}
        }
      ]
    },
    {
      "cell_type": "code",
      "source": [
        "model2.save(\"model2.h\")"
      ],
      "metadata": {
        "id": "Ix3oGDcCIOwa"
      },
      "execution_count": 24,
      "outputs": []
    },
    {
      "cell_type": "markdown",
      "source": [
        "**Visualizing Attention Maps**\n"
      ],
      "metadata": {
        "id": "rztta9C5TJyZ"
      }
    },
    {
      "cell_type": "code",
      "source": [
        "image = X_train[6]\n",
        "model_2 = tf.keras.models.load_model(\"model2.h/\")\n",
        "attention_map = visualize.attention_map(model=model_2, image=image)\n",
        "# Plot results\n",
        "fig, (ax1, ax2) = plt.subplots(ncols=2)\n",
        "ax1.axis('off')\n",
        "ax2.axis('off')\n",
        "ax1.set_title('Original')\n",
        "ax2.set_title('Attention Map')\n",
        "_ = ax1.imshow(image)\n",
        "_ = ax2.imshow(attention_map)"
      ],
      "metadata": {
        "colab": {
          "base_uri": "https://localhost:8080/",
          "height": 301
        },
        "id": "OuwmGpalSs9H",
        "outputId": "04574203-ada3-426c-96fc-4b6f334867b4"
      },
      "execution_count": 41,
      "outputs": [
        {
          "output_type": "stream",
          "name": "stdout",
          "text": [
            "1/1 [==============================] - 2s 2s/step\n"
          ]
        },
        {
          "output_type": "display_data",
          "data": {
            "text/plain": [
              "<Figure size 640x480 with 2 Axes>"
            ],
            "image/png": "[encoded data removed]"
          },
          "metadata": {}
        }
      ]
    },
    {
      "cell_type": "markdown",
      "source": [
        "## MODEL3: Full fine tune"
      ],
      "metadata": {
        "id": "wFEjLIxysDIJ"
      }
    },
    {
      "cell_type": "code",
      "source": [
        "from tensorflow.python.data.ops.options import model_pb2\n",
        "# Load the pre-trained ViT model\n",
        "model3= vit.vit_b16(\n",
        "        image_size = 64,\n",
        "        pretrained = True,\n",
        "        activation = \"softmax\",\n",
        "        include_top = True,\n",
        "        pretrained_top = False,\n",
        "        classes = 10)\n",
        "\n",
        "for layer in model3.layers:\n",
        "    layer.trainable = True\n",
        "\n",
        "\n",
        "model3.compile(\n",
        "    optimizer='adam',\n",
        "    loss='categorical_crossentropy',\n",
        "    metrics=['accuracy']\n",
        "    )"
      ],
      "metadata": {
        "colab": {
          "base_uri": "https://localhost:8080/"
        },
        "id": "a4KcU91ysXfa",
        "outputId": "8b917b50-a688-40f0-b6e0-066a0452cd24"
      },
      "execution_count": 25,
      "outputs": [
        {
          "output_type": "stream",
          "name": "stderr",
          "text": [
            "/usr/local/lib/python3.10/dist-packages/vit_keras/utils.py:81: UserWarning: Resizing position embeddings from 24, 24 to 4, 4\n",
            "  warnings.warn(\n"
          ]
        }
      ]
    },
    {
      "cell_type": "code",
      "source": [
        "model3.summary()"
      ],
      "metadata": {
        "colab": {
          "base_uri": "https://localhost:8080/"
        },
        "id": "A9zZzk-lI0GP",
        "outputId": "a1a7a765-30cb-4c0e-e561-ac3eb7d3cc6f"
      },
      "execution_count": 26,
      "outputs": [
        {
          "output_type": "stream",
          "name": "stdout",
          "text": [
            "Model: \"vit-b16\"\n",
            "_________________________________________________________________\n",
            " Layer (type)                Output Shape              Param #   \n",
            "=================================================================\n",
            " input_3 (InputLayer)        [(None, 64, 64, 3)]       0         \n",
            "                                                                 \n",
            " embedding (Conv2D)          (None, 4, 4, 768)         590592    \n",
            "                                                                 \n",
            " reshape_2 (Reshape)         (None, 16, 768)           0         \n",
            "                                                                 \n",
            " class_token (ClassToken)    (None, 17, 768)           768       \n",
            "                                                                 \n",
            " Transformer/posembed_input  (None, 17, 768)           13056     \n",
            "  (AddPositionEmbs)                                              \n",
            "                                                                 \n",
            " Transformer/encoderblock_0  ((None, 17, 768),         7087872   \n",
            "  (TransformerBlock)          (None, 12, None, None)             \n",
            "                             )                                   \n",
            "                                                                 \n",
            " Transformer/encoderblock_1  ((None, 17, 768),         7087872   \n",
            "  (TransformerBlock)          (None, 12, None, None)             \n",
            "                             )                                   \n",
            "                                                                 \n",
            " Transformer/encoderblock_2  ((None, 17, 768),         7087872   \n",
            "  (TransformerBlock)          (None, 12, None, None)             \n",
            "                             )                                   \n",
            "                                                                 \n",
            " Transformer/encoderblock_3  ((None, 17, 768),         7087872   \n",
            "  (TransformerBlock)          (None, 12, None, None)             \n",
            "                             )                                   \n",
            "                                                                 \n",
            " Transformer/encoderblock_4  ((None, 17, 768),         7087872   \n",
            "  (TransformerBlock)          (None, 12, None, None)             \n",
            "                             )                                   \n",
            "                                                                 \n",
            " Transformer/encoderblock_5  ((None, 17, 768),         7087872   \n",
            "  (TransformerBlock)          (None, 12, None, None)             \n",
            "                             )                                   \n",
            "                                                                 \n",
            " Transformer/encoderblock_6  ((None, 17, 768),         7087872   \n",
            "  (TransformerBlock)          (None, 12, None, None)             \n",
            "                             )                                   \n",
            "                                                                 \n",
            " Transformer/encoderblock_7  ((None, 17, 768),         7087872   \n",
            "  (TransformerBlock)          (None, 12, None, None)             \n",
            "                             )                                   \n",
            "                                                                 \n",
            " Transformer/encoderblock_8  ((None, 17, 768),         7087872   \n",
            "  (TransformerBlock)          (None, 12, None, None)             \n",
            "                             )                                   \n",
            "                                                                 \n",
            " Transformer/encoderblock_9  ((None, 17, 768),         7087872   \n",
            "  (TransformerBlock)          (None, 12, None, None)             \n",
            "                             )                                   \n",
            "                                                                 \n",
            " Transformer/encoderblock_1  ((None, 17, 768),         7087872   \n",
            " 0 (TransformerBlock)         (None, 12, None, None)             \n",
            "                             )                                   \n",
            "                                                                 \n",
            " Transformer/encoderblock_1  ((None, 17, 768),         7087872   \n",
            " 1 (TransformerBlock)         (None, 12, None, None)             \n",
            "                             )                                   \n",
            "                                                                 \n",
            " Transformer/encoder_norm (  (None, 17, 768)           1536      \n",
            " LayerNormalization)                                             \n",
            "                                                                 \n",
            " ExtractToken (Lambda)       (None, 768)               0         \n",
            "                                                                 \n",
            " head (Dense)                (None, 10)                7690      \n",
            "                                                                 \n",
            "=================================================================\n",
            "Total params: 85668106 (326.80 MB)\n",
            "Trainable params: 85668106 (326.80 MB)\n",
            "Non-trainable params: 0 (0.00 Byte)\n",
            "_________________________________________________________________\n"
          ]
        }
      ]
    },
    {
      "cell_type": "code",
      "source": [
        "history3 = model3.fit(X_train, y_train, epochs=25, batch_size = 128, validation_split=0.1)"
      ],
      "metadata": {
        "colab": {
          "base_uri": "https://localhost:8080/"
        },
        "id": "fRb1hfFWvXHO",
        "outputId": "2e097f20-aa7d-4c9b-de15-f8fe5f550c16"
      },
      "execution_count": 27,
      "outputs": [
        {
          "output_type": "stream",
          "name": "stdout",
          "text": [
            "Epoch 1/25\n",
            "162/162 [==============================] - 134s 491ms/step - loss: 1.9262 - accuracy: 0.2837 - val_loss: 1.4766 - val_accuracy: 0.4558\n",
            "Epoch 2/25\n",
            "162/162 [==============================] - 76s 469ms/step - loss: 1.2231 - accuracy: 0.5567 - val_loss: 1.0820 - val_accuracy: 0.6100\n",
            "Epoch 3/25\n",
            "162/162 [==============================] - 78s 484ms/step - loss: 0.9462 - accuracy: 0.6609 - val_loss: 0.8706 - val_accuracy: 0.6993\n",
            "Epoch 4/25\n",
            "162/162 [==============================] - 78s 484ms/step - loss: 0.8072 - accuracy: 0.7132 - val_loss: 0.8905 - val_accuracy: 0.6763\n",
            "Epoch 5/25\n",
            "162/162 [==============================] - 79s 484ms/step - loss: 0.6725 - accuracy: 0.7603 - val_loss: 0.7755 - val_accuracy: 0.7394\n",
            "Epoch 6/25\n",
            "162/162 [==============================] - 78s 484ms/step - loss: 0.6041 - accuracy: 0.7852 - val_loss: 0.8370 - val_accuracy: 0.7037\n",
            "Epoch 7/25\n",
            "162/162 [==============================] - 78s 484ms/step - loss: 0.5652 - accuracy: 0.7988 - val_loss: 0.6125 - val_accuracy: 0.7769\n",
            "Epoch 8/25\n",
            "162/162 [==============================] - 76s 470ms/step - loss: 0.5003 - accuracy: 0.8182 - val_loss: 0.6346 - val_accuracy: 0.7765\n",
            "Epoch 9/25\n",
            "162/162 [==============================] - 78s 483ms/step - loss: 0.4783 - accuracy: 0.8295 - val_loss: 0.6098 - val_accuracy: 0.7813\n",
            "Epoch 10/25\n",
            "162/162 [==============================] - 76s 469ms/step - loss: 0.4605 - accuracy: 0.8346 - val_loss: 0.5615 - val_accuracy: 0.7974\n",
            "Epoch 11/25\n",
            "162/162 [==============================] - 76s 469ms/step - loss: 0.4399 - accuracy: 0.8398 - val_loss: 0.6892 - val_accuracy: 0.7617\n",
            "Epoch 12/25\n",
            "162/162 [==============================] - 78s 483ms/step - loss: 0.4150 - accuracy: 0.8487 - val_loss: 0.6775 - val_accuracy: 0.7778\n",
            "Epoch 13/25\n",
            "162/162 [==============================] - 78s 483ms/step - loss: 0.3803 - accuracy: 0.8626 - val_loss: 0.6115 - val_accuracy: 0.7917\n",
            "Epoch 14/25\n",
            "162/162 [==============================] - 79s 486ms/step - loss: 0.3736 - accuracy: 0.8641 - val_loss: 0.5570 - val_accuracy: 0.8122\n",
            "Epoch 15/25\n",
            "162/162 [==============================] - 78s 484ms/step - loss: 0.3475 - accuracy: 0.8753 - val_loss: 0.6033 - val_accuracy: 0.7996\n",
            "Epoch 16/25\n",
            "162/162 [==============================] - 78s 483ms/step - loss: 0.3578 - accuracy: 0.8696 - val_loss: 0.6876 - val_accuracy: 0.7791\n",
            "Epoch 17/25\n",
            "162/162 [==============================] - 78s 483ms/step - loss: 0.3331 - accuracy: 0.8796 - val_loss: 0.5407 - val_accuracy: 0.8257\n",
            "Epoch 18/25\n",
            "162/162 [==============================] - 76s 468ms/step - loss: 0.3059 - accuracy: 0.8870 - val_loss: 0.5902 - val_accuracy: 0.8235\n",
            "Epoch 19/25\n",
            "162/162 [==============================] - 79s 485ms/step - loss: 0.3176 - accuracy: 0.8873 - val_loss: 0.5760 - val_accuracy: 0.8235\n",
            "Epoch 20/25\n",
            "162/162 [==============================] - 76s 469ms/step - loss: 0.3268 - accuracy: 0.8813 - val_loss: 0.6473 - val_accuracy: 0.7965\n",
            "Epoch 21/25\n",
            "162/162 [==============================] - 78s 482ms/step - loss: 0.3058 - accuracy: 0.8881 - val_loss: 0.5261 - val_accuracy: 0.8248\n",
            "Epoch 22/25\n",
            "162/162 [==============================] - 78s 484ms/step - loss: 0.2996 - accuracy: 0.8919 - val_loss: 0.6951 - val_accuracy: 0.7856\n",
            "Epoch 23/25\n",
            "162/162 [==============================] - 76s 469ms/step - loss: 0.2749 - accuracy: 0.9007 - val_loss: 0.5711 - val_accuracy: 0.8166\n",
            "Epoch 24/25\n",
            "162/162 [==============================] - 78s 484ms/step - loss: 0.2828 - accuracy: 0.8974 - val_loss: 0.5700 - val_accuracy: 0.8340\n",
            "Epoch 25/25\n",
            "162/162 [==============================] - 78s 484ms/step - loss: 0.2505 - accuracy: 0.9083 - val_loss: 0.5545 - val_accuracy: 0.8283\n"
          ]
        }
      ]
    },
    {
      "cell_type": "code",
      "source": [
        "training_accuracy = history3.history['accuracy']\n",
        "validation_accuracy = history3.history['val_accuracy']\n",
        "epochs = range(1, len(training_accuracy) + 1)\n",
        "plt.plot(epochs, training_accuracy, label='Training Accuracy')\n",
        "plt.plot(epochs, validation_accuracy, label='Validation Accuracy')\n",
        "plt.xlabel('Epochs')\n",
        "plt.ylabel('Accuracy')\n",
        "plt.title('Accuracy vs. Epochs')\n",
        "plt.legend()\n",
        "plt.show()"
      ],
      "metadata": {
        "colab": {
          "base_uri": "https://localhost:8080/",
          "height": 472
        },
        "id": "Sq4AuAOqQxkH",
        "outputId": "e78eb937-0871-47c9-b405-5a7ef7e51f88"
      },
      "execution_count": 34,
      "outputs": [
        {
          "output_type": "display_data",
          "data": {
            "text/plain": [
              "<Figure size 640x480 with 1 Axes>"
            ],
            "image/png": "[encoded data removed]"
          },
          "metadata": {}
        }
      ]
    },
    {
      "cell_type": "code",
      "source": [
        "training_loss = history3.history['loss']\n",
        "validation_loss = history3.history['val_loss']\n",
        "epochs = range(1, len(training_loss) + 1)\n",
        "plt.plot(epochs, training_loss, label='Training Loss')\n",
        "plt.plot(epochs, validation_loss, label='Validation Loss')\n",
        "plt.xlabel('Epochs')\n",
        "plt.ylabel('Loss')\n",
        "plt.title('Loss vs. Epochs')\n",
        "plt.legend()\n",
        "plt.show()"
      ],
      "metadata": {
        "id": "jhmlM2ESvxAN",
        "colab": {
          "base_uri": "https://localhost:8080/",
          "height": 472
        },
        "outputId": "c0d80d02-dc6b-491f-97c5-8732aac500d7"
      },
      "execution_count": 35,
      "outputs": [
        {
          "output_type": "display_data",
          "data": {
            "text/plain": [
              "<Figure size 640x480 with 1 Axes>"
            ],
            "image/png": "[encoded data removed]"
          },
          "metadata": {}
        }
      ]
    },
    {
      "cell_type": "code",
      "source": [
        "model3.save(\"model3.h\")"
      ],
      "metadata": {
        "id": "yrgU_g5oSJTy"
      },
      "execution_count": 36,
      "outputs": []
    },
    {
      "cell_type": "markdown",
      "source": [
        "Visualizing Attention Maps"
      ],
      "metadata": {
        "id": "j-6dJLRMTP49"
      }
    },
    {
      "cell_type": "code",
      "source": [
        "image = X_train[6]\n",
        "model_3 = tf.keras.models.load_model(\"model3.h/\")\n",
        "attention_map = visualize.attention_map(model=model_3, image=image)\n",
        "# Plot results\n",
        "fig, (ax1, ax2) = plt.subplots(ncols=2)\n",
        "ax1.axis('off')\n",
        "ax2.axis('off')\n",
        "ax1.set_title('Original')\n",
        "ax2.set_title('Attention Map')\n",
        "_ = ax1.imshow(image)\n",
        "_ = ax2.imshow(attention_map)"
      ],
      "metadata": {
        "colab": {
          "base_uri": "https://localhost:8080/",
          "height": 301
        },
        "id": "MkBsjxKNR_qn",
        "outputId": "9f9502c9-0f50-4867-8179-701bdb7e5151"
      },
      "execution_count": 46,
      "outputs": [
        {
          "output_type": "stream",
          "name": "stdout",
          "text": [
            "1/1 [==============================] - 3s 3s/step\n"
          ]
        },
        {
          "output_type": "display_data",
          "data": {
            "text/plain": [
              "<Figure size 640x480 with 2 Axes>"
            ],
            "image/png": "[encoded data removed]"
          },
          "metadata": {}
        }
      ]
    },
    {
      "cell_type": "markdown",
      "source": [
        "## Model4: Do Not Fine Tune"
      ],
      "metadata": {
        "id": "yHFPRVkeLhTr"
      }
    },
    {
      "cell_type": "code",
      "source": [
        "model4= vit.vit_b16(\n",
        "        image_size = 64,\n",
        "        pretrained = True,\n",
        "        activation = \"softmax\",\n",
        "        include_top = True,\n",
        "        pretrained_top = True,\n",
        "        classes = 10)\n",
        "\n",
        "model4.compile(\n",
        "    optimizer='adam',\n",
        "    loss='categorical_crossentropy',\n",
        "    metrics=['accuracy'])"
      ],
      "metadata": {
        "id": "kaOcuz5ILzwK"
      },
      "execution_count": 50,
      "outputs": []
    },
    {
      "cell_type": "markdown",
      "source": [
        "Visualizing Attention Maps"
      ],
      "metadata": {
        "id": "FEWwbPGFTv4i"
      }
    },
    {
      "cell_type": "code",
      "source": [
        "image = X_train[6]\n",
        "model_4 = vit.vit_b16(\n",
        "        image_size = 64,\n",
        "        pretrained = True,\n",
        "        activation = \"softmax\",\n",
        "        include_top = True,\n",
        "        pretrained_top = True,\n",
        "        classes = 10)\n",
        "attention_map = visualize.attention_map(model=model_4, image=image)\n",
        "# Plot results\n",
        "fig, (ax1, ax2) = plt.subplots(ncols=2)\n",
        "ax1.axis('off')\n",
        "ax2.axis('off')\n",
        "ax1.set_title('Original')\n",
        "ax2.set_title('Attention Map')\n",
        "_ = ax1.imshow(image)\n",
        "_ = ax2.imshow(attention_map)"
      ],
      "metadata": {
        "id": "2UoigW70MPr_",
        "colab": {
          "base_uri": "https://localhost:8080/",
          "height": 371
        },
        "outputId": "165a5180-2779-4216-bdf8-f968eb520a9d"
      },
      "execution_count": 52,
      "outputs": [
        {
          "output_type": "stream",
          "name": "stderr",
          "text": [
            "/usr/local/lib/python3.10/dist-packages/vit_keras/vit.py:139: UserWarning: Can only use pretrained_top with imagenet21k+imagenet2012 if classes = 1000. Setting manually.\n",
            "  warnings.warn(\n",
            "/usr/local/lib/python3.10/dist-packages/vit_keras/utils.py:81: UserWarning: Resizing position embeddings from 24, 24 to 4, 4\n",
            "  warnings.warn(\n"
          ]
        },
        {
          "output_type": "stream",
          "name": "stdout",
          "text": [
            "1/1 [==============================] - 3s 3s/step\n"
          ]
        },
        {
          "output_type": "display_data",
          "data": {
            "text/plain": [
              "<Figure size 640x480 with 2 Axes>"
            ],
            "image/png": "[encoded data removed]"
          },
          "metadata": {}
        }
      ]
    },
    {
      "cell_type": "code",
      "source": [],
      "metadata": {
        "id": "yNi3BEgiy7mY"
      },
      "execution_count": null,
      "outputs": []
    },
    {
      "cell_type": "markdown",
      "source": [
        "# Comparision of attention maps"
      ],
      "metadata": {
        "id": "Q62_GAG7U0OA"
      }
    },
    {
      "cell_type": "markdown",
      "source": [
        "The attention map for model1 and model4 will be same because we are not training the attention , so it will be default attention traind on imagenet dataset"
      ],
      "metadata": {
        "id": "bDCTh27vU9G0"
      }
    },
    {
      "cell_type": "code",
      "source": [
        "image = X_train[6]\n",
        "model_1 =  vit.vit_b16(\n",
        "        image_size = 64,\n",
        "        activation = \"softmax\",\n",
        "        pretrained = True,\n",
        "        include_top = False,\n",
        "        pretrained_top = False,\n",
        "        classes = 10)\n",
        "model_2 = tf.keras.models.load_model(\"model2.h/\")\n",
        "\n",
        "\n",
        "model_3 = tf.keras.models.load_model(\"model3.h/\")\n",
        "\n",
        "model_4 = vit.vit_b16(\n",
        "        image_size = 64,\n",
        "        pretrained = True,\n",
        "        activation = \"softmax\",\n",
        "        include_top = True,\n",
        "        pretrained_top = True,\n",
        "        classes = 10)\n",
        "attention_map_1 = visualize.attention_map(model=model_1, image=image)\n",
        "attention_map_2 = visualize.attention_map(model=model_2, image=image)\n",
        "attention_map_3 = visualize.attention_map(model=model_3, image=image)\n",
        "attention_map_4 = visualize.attention_map(model=model_4, image=image)\n",
        "# Plot results\n",
        "fig, (ax1, ax2, ax3, ax4, ax5) = plt.subplots(ncols=5)\n",
        "ax1.axis('off')\n",
        "ax2.axis('off')\n",
        "ax3.axis('off')\n",
        "ax4.axis('off')\n",
        "ax5.axis('off')\n",
        "ax1.set_title('Original')\n",
        "ax2.set_title(' model 1')\n",
        "ax3.set_title(' model 2')\n",
        "ax4.set_title(' model 3')\n",
        "ax5.set_title(' model 4')\n",
        "_ = ax1.imshow(image)\n",
        "_ = ax2.imshow(attention_map_1)\n",
        "_ = ax3.imshow(attention_map_2)\n",
        "_ = ax4.imshow(attention_map_3)\n",
        "_ = ax5.imshow(attention_map_4)"
      ],
      "metadata": {
        "colab": {
          "base_uri": "https://localhost:8080/",
          "height": 283
        },
        "id": "WNvnYxxnU7oN",
        "outputId": "7fd56c9b-2053-4b3e-b0de-27eb0406f048"
      },
      "execution_count": 58,
      "outputs": [
        {
          "output_type": "stream",
          "name": "stderr",
          "text": [
            "/usr/local/lib/python3.10/dist-packages/vit_keras/vit.py:139: UserWarning: Can only use pretrained_top with imagenet21k+imagenet2012 if classes = 1000. Setting manually.\n",
            "  warnings.warn(\n",
            "/usr/local/lib/python3.10/dist-packages/vit_keras/utils.py:81: UserWarning: Resizing position embeddings from 24, 24 to 4, 4\n",
            "  warnings.warn(\n"
          ]
        },
        {
          "output_type": "stream",
          "name": "stdout",
          "text": [
            "1/1 [==============================] - 3s 3s/step\n",
            "1/1 [==============================] - 5s 5s/step\n",
            "1/1 [==============================] - 3s 3s/step\n",
            "1/1 [==============================] - 3s 3s/step\n"
          ]
        },
        {
          "output_type": "display_data",
          "data": {
            "text/plain": [
              "<Figure size 640x480 with 5 Axes>"
            ],
            "image/png": "[encoded data removed]"
          },
          "metadata": {}
        }
      ]
    }
  ]
}